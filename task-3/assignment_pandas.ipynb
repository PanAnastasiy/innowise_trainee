{
 "cells": [
  {
   "cell_type": "markdown",
   "metadata": {},
   "source": [
    "## Датасет собран из базы данных переписи 1994 года и содержит данные о доходах.\n",
    "### Информация о данных:\n",
    "* age: continuous.\n",
    "* workclass: Private, Self-emp-not-inc, Self-emp-inc, Federal-gov, Local-gov, State-gov, Without-pay, Never-worked.\n",
    "* fnlwgt: continuous.\n",
    "* education: Bachelors, Some-college, 11th, HS-grad, Prof-school, Assoc-acdm, Assoc-voc, 9th, 7th-8th, 12th, * Masters, 1st-4th, 10th, Doctorate, 5th-6th, Preschool.\n",
    "* education-num: continuous.\n",
    "* marital-status: Married-civ-spouse, Divorced, Never-married, Separated, Widowed, Married-spouse-absent, Married-AF-spouse.\n",
    "* occupation: Tech-support, Craft-repair, Other-service, Sales, Exec-managerial, Prof-specialty, Handlers-cleaners, Machine-op-inspct, Adm-clerical, Farming-fishing, Transport-moving, Priv-house-serv, Protective-serv, Armed-Forces.\n",
    "* relationship: Wife, Own-child, Husband, Not-in-family, Other-relative, Unmarried.\n",
    "* race: White, Asian-Pac-Islander, Amer-Indian-Eskimo, Other, Black.\n",
    "* sex: Female, Male.\n",
    "* capital-gain: continuous.\n",
    "* capital-loss: continuous.\n",
    "* hours-per-week: continuous.\n",
    "* native-country: United-States, Cambodia, England, Puerto-Rico, Canada, Germany, Outlying-US(Guam-USVI-etc), India, Japan, Greece, South, China, Cuba, Iran, Honduras, Philippines, Italy, Poland, Jamaica, Vietnam, Mexico, Portugal, Ireland, France, Dominican-Republic, Laos, Ecuador, Taiwan, Haiti, Columbia, Hungary, Guatemala, Nicaragua, Scotland, Thailand, Yugoslavia, El-Salvador, Trinadad&Tobago, Peru, Hong, Holand-Netherlands.\n",
    "* salary: >50K,<=50K\n",
    "\n",
    "## Проведите анализ данных при помощи Pandas выполнив поставленные задачи.\n",
    "#### "
   ]
  },
  {
   "cell_type": "code",
   "metadata": {
    "ExecuteTime": {
     "end_time": "2025-10-24T19:44:39.122328Z",
     "start_time": "2025-10-24T19:44:38.464165Z"
    }
   },
   "source": [
    "import pandas as pd\n",
    "from utils.design import *\n",
    "from consts import DF_CSV_PATH\n",
    "\n",
    "data = pd.read_csv(DF_CSV_PATH)\n"
   ],
   "outputs": [],
   "execution_count": 2
  },
  {
   "cell_type": "markdown",
   "metadata": {},
   "source": [
    "**1. Посчитайте, сколько мужчин и женщин (признак *sex*) представлено в этом датасете**"
   ]
  },
  {
   "cell_type": "code",
   "metadata": {
    "ExecuteTime": {
     "end_time": "2025-10-24T19:39:33.516380Z",
     "start_time": "2025-10-24T19:39:33.500462Z"
    }
   },
   "source": [
    "Message.print_message(\n",
    "    f\"Количество мужчин в этом датасете - {data[data['sex'] == 'Male'].shape[0]}\",\n",
    "    Color.BLUE,\n",
    "    Color.LIGHT_WHITE\n",
    ")\n",
    "\n",
    "Message.print_message(\n",
    "    f\"Количество женщин в этом датасете - {data[data['sex'] == 'Female'].shape[0]}\",\n",
    "    Color.RED,\n",
    "    Color.LIGHT_WHITE\n",
    ")\n"
   ],
   "outputs": [
    {
     "name": "stdout",
     "output_type": "stream",
     "text": [
      "\n",
      "\u001B[1m\u001B[34m+-------------------------------------------+\u001B[0m\n",
      "\u001B[1m\u001B[34m| \u001B[97m\u001B[1mКоличество мужчин в этом датасете - 21790\u001B[0m\u001B[34m |\u001B[0m\n",
      "\u001B[1m\u001B[34m+-------------------------------------------+\u001B[0m\n",
      "\n",
      "\u001B[1m\u001B[31m+-------------------------------------------+\u001B[0m\n",
      "\u001B[1m\u001B[31m| \u001B[97m\u001B[1mКоличество женщин в этом датасете - 10771\u001B[0m\u001B[31m |\u001B[0m\n",
      "\u001B[1m\u001B[31m+-------------------------------------------+\u001B[0m\n"
     ]
    }
   ],
   "execution_count": 3
  },
  {
   "cell_type": "markdown",
   "metadata": {},
   "source": [
    "**2. Каков средний возраст мужчин (признак *age*) по всему датасету?**"
   ]
  },
  {
   "cell_type": "code",
   "metadata": {
    "ExecuteTime": {
     "end_time": "2025-10-24T19:39:35.657158Z",
     "start_time": "2025-10-24T19:39:35.647697Z"
    }
   },
   "source": [
    "avg_age = data[data['sex']== 'Male']['age'].mean()\n",
    "\n",
    "Message.print_message(\n",
    "    f\"Средний возраст мужчин по всему датасету - {avg_age:.2f}\",\n",
    "    Color.GREEN,\n",
    "    Color.LIGHT_WHITE\n",
    ")\n"
   ],
   "outputs": [
    {
     "name": "stdout",
     "output_type": "stream",
     "text": [
      "\n",
      "\u001B[1m\u001B[32m+--------------------------------------------------+\u001B[0m\n",
      "\u001B[1m\u001B[32m| \u001B[97m\u001B[1mСредний возраст мужчин по всему датасету - 39.43\u001B[0m\u001B[32m |\u001B[0m\n",
      "\u001B[1m\u001B[32m+--------------------------------------------------+\u001B[0m\n"
     ]
    }
   ],
   "execution_count": 4
  },
  {
   "cell_type": "markdown",
   "metadata": {},
   "source": [
    "**3. Какова доля граждан Соединенных Штатов (признак *native-country*)?**"
   ]
  },
  {
   "cell_type": "code",
   "metadata": {
    "ExecuteTime": {
     "end_time": "2025-10-24T19:39:37.328711Z",
     "start_time": "2025-10-24T19:39:37.319807Z"
    }
   },
   "source": [
    "total = len(data)\n",
    "us_citizens = (data['native-country'] == 'United-States').sum()\n",
    "answer = us_citizens / total if total else 0\n",
    "\n",
    "Message.print_message(\n",
    "    f\"Доля граждан Соединенных Штатов в этом датасете - {answer:.3f}\",\n",
    "    Color.GREEN,\n",
    "    Color.LIGHT_WHITE\n",
    ")\n"
   ],
   "outputs": [
    {
     "name": "stdout",
     "output_type": "stream",
     "text": [
      "\n",
      "\u001B[1m\u001B[32m+---------------------------------------------------------+\u001B[0m\n",
      "\u001B[1m\u001B[32m| \u001B[97m\u001B[1mДоля граждан Соединенных Штатов в этом датасете - 0.896\u001B[0m\u001B[32m |\u001B[0m\n",
      "\u001B[1m\u001B[32m+---------------------------------------------------------+\u001B[0m\n"
     ]
    }
   ],
   "execution_count": 5
  },
  {
   "metadata": {},
   "cell_type": "markdown",
   "source": "**4-5. Рассчитайте среднее значение и среднеквадратичное отклонение возраста тех, кто получает более 50K в год (признак *salary*) и тех, кто получает менее 50K в год**"
  },
  {
   "cell_type": "code",
   "metadata": {
    "ExecuteTime": {
     "end_time": "2025-10-25T00:19:40.219801Z",
     "start_time": "2025-10-25T00:19:39.991806Z"
    }
   },
   "source": [
    "mean1, mean2 = (data[data['salary'] == '<=50K']['age'].mean(),\n",
    "                data[data['salary'] == '>50K']['age'].mean())\n",
    "\n",
    "std1, std2 = (data[data['salary'] == '<=50K']['age'].std(),\n",
    "              data[data['salary'] == '>50K']['age'].std())\n",
    "\n",
    "Message.print_message(\n",
    "    f\"Cреднее значение и среднеквадратичное отклонение возраста тех, кто получает более 50K в год - {mean1:.2f} и {std1:.2f}\",\n",
    "    Color.GREEN,\n",
    "    Color.LIGHT_WHITE\n",
    ")\n",
    "\n",
    "Message.print_message(\n",
    "    f\"Cреднее значение и среднеквадратичное отклонение возраста тех, кто получает менее 50K в год - {mean2:.2f} и {std2:.2f}\",\n",
    "    Color.BLUE,\n",
    "    Color.LIGHT_WHITE\n",
    ")\n"
   ],
   "outputs": [
    {
     "name": "stdout",
     "output_type": "stream",
     "text": [
      "\n",
      "\u001B[1m\u001B[32m+-------------------------------------------------------------------------------------------------------------+\u001B[0m\n",
      "\u001B[1m\u001B[32m| \u001B[97m\u001B[1mCреднее значение и среднеквадратичное отклонение возраста тех, кто получает более 50K в год - 36.78 и 14.02\u001B[0m\u001B[32m |\u001B[0m\n",
      "\u001B[1m\u001B[32m+-------------------------------------------------------------------------------------------------------------+\u001B[0m\n",
      "\n",
      "\u001B[1m\u001B[34m+-------------------------------------------------------------------------------------------------------------+\u001B[0m\n",
      "\u001B[1m\u001B[34m| \u001B[97m\u001B[1mCреднее значение и среднеквадратичное отклонение возраста тех, кто получает менее 50K в год - 44.25 и 10.52\u001B[0m\u001B[34m |\u001B[0m\n",
      "\u001B[1m\u001B[34m+-------------------------------------------------------------------------------------------------------------+\u001B[0m\n"
     ]
    }
   ],
   "execution_count": 4
  },
  {
   "cell_type": "markdown",
   "metadata": {},
   "source": [
    "**6. Правда ли, что люди, которые получают больше 50k, имеют минимум высшее образование? (признак *education – Bachelors, Prof-school, Assoc-acdm, Assoc-voc, Masters* или *Doctorate*)**"
   ]
  },
  {
   "cell_type": "code",
   "metadata": {
    "ExecuteTime": {
     "end_time": "2025-10-24T19:39:39.362971Z",
     "start_time": "2025-10-24T19:39:39.353052Z"
    }
   },
   "source": [
    "higher_education = ['Bachelors', 'Prof-school', 'Assoc-acdm',\n",
    "                    'Assoc-voc', 'Masters', 'Doctorate']\n",
    "\n",
    "mask = data['salary'] == '>50K'\n",
    "\n",
    "answer = 'Правда' if data.loc[mask, 'education'].isin(higher_education).all() else 'Ложь'\n",
    "\n",
    "Message.print_message(\n",
    "    f\"Люди, которые получают больше 50k, имеют минимум высшее образование - {answer}\",\n",
    "    Color.YELLOW,\n",
    "    Color.LIGHT_WHITE\n",
    ")\n"
   ],
   "outputs": [
    {
     "name": "stdout",
     "output_type": "stream",
     "text": [
      "\n",
      "\u001B[1m\u001B[33m+----------------------------------------------------------------------------+\u001B[0m\n",
      "\u001B[1m\u001B[33m| \u001B[97m\u001B[1mЛюди, которые получают больше 50k, имеют минимум высшее образование - Ложь\u001B[0m\u001B[33m |\u001B[0m\n",
      "\u001B[1m\u001B[33m+----------------------------------------------------------------------------+\u001B[0m\n"
     ]
    }
   ],
   "execution_count": 7
  },
  {
   "cell_type": "markdown",
   "metadata": {},
   "source": [
    "**7. Выведите статистику возраста для каждой расы (признак *race*) и каждого пола. Используйте *groupby* и *describe*. Найдите таким образом максимальный возраст мужчин расы *Asian-Pac-Islander*.**"
   ]
  },
  {
   "cell_type": "code",
   "metadata": {
    "scrolled": true,
    "ExecuteTime": {
     "end_time": "2025-10-24T19:39:39.868797Z",
     "start_time": "2025-10-24T19:39:39.826173Z"
    }
   },
   "source": [
    "age_stats = data.groupby(['race', 'sex'])['age'].describe()\n",
    "\n",
    "max_age = age_stats.loc[('Asian-Pac-Islander', 'Male'), 'max']\n",
    "\n",
    "Message.print_message(\n",
    "    f\"Максимальный возраст мужчин расы Asian-Pac-Islander равен {max_age}\",\n",
    "    Color.BLUE,\n",
    "    Color.LIGHT_WHITE\n",
    ")\n",
    "\n",
    "Message.print_message(\n",
    "    f\"Cтатистика возраста для каждой расы и каждого пола отображена ниже:\",\n",
    "    Color.PURPLE,\n",
    "    Color.LIGHT_WHITE\n",
    ")\n",
    "\n",
    "age_stats\n"
   ],
   "outputs": [
    {
     "name": "stdout",
     "output_type": "stream",
     "text": [
      "\n",
      "\u001B[1m\u001B[34m+----------------------------------------------------------------+\u001B[0m\n",
      "\u001B[1m\u001B[34m| \u001B[97m\u001B[1mМаксимальный возраст мужчин расы Asian-Pac-Islander равен 90.0\u001B[0m\u001B[34m |\u001B[0m\n",
      "\u001B[1m\u001B[34m+----------------------------------------------------------------+\u001B[0m\n",
      "\n",
      "\u001B[1m\u001B[35m+---------------------------------------------------------------------+\u001B[0m\n",
      "\u001B[1m\u001B[35m| \u001B[97m\u001B[1mCтатистика возраста для каждой расы и каждого пола отображена ниже:\u001B[0m\u001B[35m |\u001B[0m\n",
      "\u001B[1m\u001B[35m+---------------------------------------------------------------------+\u001B[0m\n"
     ]
    },
    {
     "data": {
      "text/plain": [
       "                             count       mean        std   min   25%   50%  \\\n",
       "race               sex                                                       \n",
       "Amer-Indian-Eskimo Female    119.0  37.117647  13.114991  17.0  27.0  36.0   \n",
       "                   Male      192.0  37.208333  12.049563  17.0  28.0  35.0   \n",
       "Asian-Pac-Islander Female    346.0  35.089595  12.300845  17.0  25.0  33.0   \n",
       "                   Male      693.0  39.073593  12.883944  18.0  29.0  37.0   \n",
       "Black              Female   1555.0  37.854019  12.637197  17.0  28.0  37.0   \n",
       "                   Male     1569.0  37.682600  12.882612  17.0  27.0  36.0   \n",
       "Other              Female    109.0  31.678899  11.631599  17.0  23.0  29.0   \n",
       "                   Male      162.0  34.654321  11.355531  17.0  26.0  32.0   \n",
       "White              Female   8642.0  36.811618  14.329093  17.0  25.0  35.0   \n",
       "                   Male    19174.0  39.652498  13.436029  17.0  29.0  38.0   \n",
       "\n",
       "                             75%   max  \n",
       "race               sex                  \n",
       "Amer-Indian-Eskimo Female  46.00  80.0  \n",
       "                   Male    45.00  82.0  \n",
       "Asian-Pac-Islander Female  43.75  75.0  \n",
       "                   Male    46.00  90.0  \n",
       "Black              Female  46.00  90.0  \n",
       "                   Male    46.00  90.0  \n",
       "Other              Female  39.00  74.0  \n",
       "                   Male    42.00  77.0  \n",
       "White              Female  46.00  90.0  \n",
       "                   Male    49.00  90.0  "
      ],
      "text/html": [
       "<div>\n",
       "<style scoped>\n",
       "    .dataframe tbody tr th:only-of-type {\n",
       "        vertical-align: middle;\n",
       "    }\n",
       "\n",
       "    .dataframe tbody tr th {\n",
       "        vertical-align: top;\n",
       "    }\n",
       "\n",
       "    .dataframe thead th {\n",
       "        text-align: right;\n",
       "    }\n",
       "</style>\n",
       "<table border=\"1\" class=\"dataframe\">\n",
       "  <thead>\n",
       "    <tr style=\"text-align: right;\">\n",
       "      <th></th>\n",
       "      <th></th>\n",
       "      <th>count</th>\n",
       "      <th>mean</th>\n",
       "      <th>std</th>\n",
       "      <th>min</th>\n",
       "      <th>25%</th>\n",
       "      <th>50%</th>\n",
       "      <th>75%</th>\n",
       "      <th>max</th>\n",
       "    </tr>\n",
       "    <tr>\n",
       "      <th>race</th>\n",
       "      <th>sex</th>\n",
       "      <th></th>\n",
       "      <th></th>\n",
       "      <th></th>\n",
       "      <th></th>\n",
       "      <th></th>\n",
       "      <th></th>\n",
       "      <th></th>\n",
       "      <th></th>\n",
       "    </tr>\n",
       "  </thead>\n",
       "  <tbody>\n",
       "    <tr>\n",
       "      <th rowspan=\"2\" valign=\"top\">Amer-Indian-Eskimo</th>\n",
       "      <th>Female</th>\n",
       "      <td>119.0</td>\n",
       "      <td>37.117647</td>\n",
       "      <td>13.114991</td>\n",
       "      <td>17.0</td>\n",
       "      <td>27.0</td>\n",
       "      <td>36.0</td>\n",
       "      <td>46.00</td>\n",
       "      <td>80.0</td>\n",
       "    </tr>\n",
       "    <tr>\n",
       "      <th>Male</th>\n",
       "      <td>192.0</td>\n",
       "      <td>37.208333</td>\n",
       "      <td>12.049563</td>\n",
       "      <td>17.0</td>\n",
       "      <td>28.0</td>\n",
       "      <td>35.0</td>\n",
       "      <td>45.00</td>\n",
       "      <td>82.0</td>\n",
       "    </tr>\n",
       "    <tr>\n",
       "      <th rowspan=\"2\" valign=\"top\">Asian-Pac-Islander</th>\n",
       "      <th>Female</th>\n",
       "      <td>346.0</td>\n",
       "      <td>35.089595</td>\n",
       "      <td>12.300845</td>\n",
       "      <td>17.0</td>\n",
       "      <td>25.0</td>\n",
       "      <td>33.0</td>\n",
       "      <td>43.75</td>\n",
       "      <td>75.0</td>\n",
       "    </tr>\n",
       "    <tr>\n",
       "      <th>Male</th>\n",
       "      <td>693.0</td>\n",
       "      <td>39.073593</td>\n",
       "      <td>12.883944</td>\n",
       "      <td>18.0</td>\n",
       "      <td>29.0</td>\n",
       "      <td>37.0</td>\n",
       "      <td>46.00</td>\n",
       "      <td>90.0</td>\n",
       "    </tr>\n",
       "    <tr>\n",
       "      <th rowspan=\"2\" valign=\"top\">Black</th>\n",
       "      <th>Female</th>\n",
       "      <td>1555.0</td>\n",
       "      <td>37.854019</td>\n",
       "      <td>12.637197</td>\n",
       "      <td>17.0</td>\n",
       "      <td>28.0</td>\n",
       "      <td>37.0</td>\n",
       "      <td>46.00</td>\n",
       "      <td>90.0</td>\n",
       "    </tr>\n",
       "    <tr>\n",
       "      <th>Male</th>\n",
       "      <td>1569.0</td>\n",
       "      <td>37.682600</td>\n",
       "      <td>12.882612</td>\n",
       "      <td>17.0</td>\n",
       "      <td>27.0</td>\n",
       "      <td>36.0</td>\n",
       "      <td>46.00</td>\n",
       "      <td>90.0</td>\n",
       "    </tr>\n",
       "    <tr>\n",
       "      <th rowspan=\"2\" valign=\"top\">Other</th>\n",
       "      <th>Female</th>\n",
       "      <td>109.0</td>\n",
       "      <td>31.678899</td>\n",
       "      <td>11.631599</td>\n",
       "      <td>17.0</td>\n",
       "      <td>23.0</td>\n",
       "      <td>29.0</td>\n",
       "      <td>39.00</td>\n",
       "      <td>74.0</td>\n",
       "    </tr>\n",
       "    <tr>\n",
       "      <th>Male</th>\n",
       "      <td>162.0</td>\n",
       "      <td>34.654321</td>\n",
       "      <td>11.355531</td>\n",
       "      <td>17.0</td>\n",
       "      <td>26.0</td>\n",
       "      <td>32.0</td>\n",
       "      <td>42.00</td>\n",
       "      <td>77.0</td>\n",
       "    </tr>\n",
       "    <tr>\n",
       "      <th rowspan=\"2\" valign=\"top\">White</th>\n",
       "      <th>Female</th>\n",
       "      <td>8642.0</td>\n",
       "      <td>36.811618</td>\n",
       "      <td>14.329093</td>\n",
       "      <td>17.0</td>\n",
       "      <td>25.0</td>\n",
       "      <td>35.0</td>\n",
       "      <td>46.00</td>\n",
       "      <td>90.0</td>\n",
       "    </tr>\n",
       "    <tr>\n",
       "      <th>Male</th>\n",
       "      <td>19174.0</td>\n",
       "      <td>39.652498</td>\n",
       "      <td>13.436029</td>\n",
       "      <td>17.0</td>\n",
       "      <td>29.0</td>\n",
       "      <td>38.0</td>\n",
       "      <td>49.00</td>\n",
       "      <td>90.0</td>\n",
       "    </tr>\n",
       "  </tbody>\n",
       "</table>\n",
       "</div>"
      ]
     },
     "execution_count": 8,
     "metadata": {},
     "output_type": "execute_result"
    }
   ],
   "execution_count": 8
  },
  {
   "cell_type": "markdown",
   "metadata": {},
   "source": [
    "**8. Среди кого больше доля зарабатывающих много (>50K): среди женатых или холостых мужчин (признак *marital-status*)? Женатыми считаем тех, у кого *marital-status* начинается с *Married* (Married-civ-spouse, Married-spouse-absent или Married-AF-spouse), остальных считаем холостыми.**"
   ]
  },
  {
   "cell_type": "code",
   "metadata": {
    "ExecuteTime": {
     "end_time": "2025-10-24T19:39:40.249633Z",
     "start_time": "2025-10-24T19:39:40.226950Z"
    }
   },
   "source": [
    "count_of_mens = data[(data['salary'] == '>50K') & (data['sex'] == 'Male')].shape[0]\n",
    "\n",
    "married = data[(data['salary'] == '>50K') & (data['sex'] == 'Male') & (data['marital-status'].str.startswith('Married'))].shape[0]\n",
    "\n",
    "un_married = count_of_mens - married\n",
    "\n",
    "Message.print_message(\n",
    "    f\"Можно брать долю среди всех людей, а можно брать долю среди только мужчин, но на ответе это не скажется.\",\n",
    "    Color.PURPLE,\n",
    "    Color.CYAN\n",
    ")\n",
    "Message.print_message(\n",
    "    f\"Доля зарабатывающих много (>50K) среди женатых мужчин {round(married / count_of_mens, 2)}\",\n",
    "    Color.YELLOW,\n",
    "    Color.LIGHT_WHITE\n",
    ")\n",
    "\n",
    "Message.print_message(\n",
    "    f\"Доля зарабатывающих много (>50K) среди холостых мужчин {round(un_married / count_of_mens, 2)}\",\n",
    "    Color.RED,\n",
    "    Color.LIGHT_WHITE\n",
    ")\n",
    "\n",
    "Message.print_message(\n",
    "    f\"Доля зарабатывающих много (>50K) среди ЖЕНАТЫХ мужчин БОЛЬШЕ\" if married > un_married else\n",
    "    f\"Доля зарабатывающих много (>50K) среди ХОЛОСТЫХ мужчин БОЛЬШЕ\",\n",
    "    Color.PURPLE,\n",
    "    Color.LIGHT_WHITE\n",
    ")\n"
   ],
   "outputs": [
    {
     "name": "stdout",
     "output_type": "stream",
     "text": [
      "\n",
      "\u001B[1m\u001B[35m+----------------------------------------------------------------------------------------------------------+\u001B[0m\n",
      "\u001B[1m\u001B[35m| \u001B[36m\u001B[1mМожно брать долю среди всех людей, а можно брать долю среди только мужчин, но на ответе это не скажется.\u001B[0m\u001B[35m |\u001B[0m\n",
      "\u001B[1m\u001B[35m+----------------------------------------------------------------------------------------------------------+\u001B[0m\n",
      "\n",
      "\u001B[1m\u001B[33m+-----------------------------------------------------------+\u001B[0m\n",
      "\u001B[1m\u001B[33m| \u001B[97m\u001B[1mДоля зарабатывающих много (>50K) среди женатых мужчин 0.9\u001B[0m\u001B[33m |\u001B[0m\n",
      "\u001B[1m\u001B[33m+-----------------------------------------------------------+\u001B[0m\n",
      "\n",
      "\u001B[1m\u001B[31m+------------------------------------------------------------+\u001B[0m\n",
      "\u001B[1m\u001B[31m| \u001B[97m\u001B[1mДоля зарабатывающих много (>50K) среди холостых мужчин 0.1\u001B[0m\u001B[31m |\u001B[0m\n",
      "\u001B[1m\u001B[31m+------------------------------------------------------------+\u001B[0m\n",
      "\n",
      "\u001B[1m\u001B[35m+--------------------------------------------------------------+\u001B[0m\n",
      "\u001B[1m\u001B[35m| \u001B[97m\u001B[1mДоля зарабатывающих много (>50K) среди ЖЕНАТЫХ мужчин БОЛЬШЕ\u001B[0m\u001B[35m |\u001B[0m\n",
      "\u001B[1m\u001B[35m+--------------------------------------------------------------+\u001B[0m\n"
     ]
    }
   ],
   "execution_count": 9
  },
  {
   "cell_type": "markdown",
   "metadata": {},
   "source": [
    "**9. Какое максимальное число часов человек работает в неделю (признак *hours-per-week*)? Сколько людей работают такое количество часов и каков среди них процент зарабатывающих много?**"
   ]
  },
  {
   "cell_type": "code",
   "metadata": {
    "ExecuteTime": {
     "end_time": "2025-10-24T19:39:40.646005Z",
     "start_time": "2025-10-24T19:39:40.635751Z"
    }
   },
   "source": [
    "max_hours_per_week = data['hours-per-week'].max()\n",
    "\n",
    "total_count_of_people = data[data['hours-per-week'] == max_hours_per_week].shape[0]\n",
    "count_of_people_with_high_salary = data[(data['hours-per-week'] == max_hours_per_week) & (data['salary'] == '>50K')].shape[0]\n",
    "\n",
    "percent_high_salary = (\n",
    "    count_of_people_with_high_salary * 100 / total_count_of_people\n",
    "    if total_count_of_people > 0 else 0\n",
    ")\n",
    "\n",
    "Message.print_message(\n",
    "    f\"Максимальное число часов человек работает в неделю - {max_hours_per_week}\",\n",
    "    Color.BLUE,\n",
    "    Color.LIGHT_WHITE\n",
    ")\n",
    "\n",
    "Message.print_message(\n",
    "    f\"Количество людей, которые работают {max_hours_per_week} ч в неделю ВСЕГО - {total_count_of_people}\",\n",
    "    Color.GREEN,\n",
    "    Color.LIGHT_WHITE\n",
    ")\n",
    "\n",
    "Message.print_message(\n",
    "    f\"Количество людей, которые работают {max_hours_per_week} ч в неделю СРЕДИ МНОГО ЗАРАБАТЫВАЮЩИХ - {count_of_people_with_high_salary}\",\n",
    "    Color.CYAN,\n",
    "    Color.LIGHT_WHITE\n",
    ")\n",
    "\n",
    "Message.print_message(\n",
    "    f\"Процент людей, которые работают {max_hours_per_week} ч в неделю и зарабатывают много - {percent_high_salary:.2f}%\",\n",
    "    Color.RED,\n",
    "    Color.LIGHT_WHITE\n",
    ")\n"
   ],
   "outputs": [
    {
     "name": "stdout",
     "output_type": "stream",
     "text": [
      "\n",
      "\u001B[1m\u001B[34m+---------------------------------------------------------+\u001B[0m\n",
      "\u001B[1m\u001B[34m| \u001B[97m\u001B[1mМаксимальное число часов человек работает в неделю - 99\u001B[0m\u001B[34m |\u001B[0m\n",
      "\u001B[1m\u001B[34m+---------------------------------------------------------+\u001B[0m\n",
      "\n",
      "\u001B[1m\u001B[32m+-------------------------------------------------------------+\u001B[0m\n",
      "\u001B[1m\u001B[32m| \u001B[97m\u001B[1mКоличество людей, которые работают 99 ч в неделю ВСЕГО - 85\u001B[0m\u001B[32m |\u001B[0m\n",
      "\u001B[1m\u001B[32m+-------------------------------------------------------------+\u001B[0m\n",
      "\n",
      "\u001B[1m\u001B[36m+----------------------------------------------------------------------------------+\u001B[0m\n",
      "\u001B[1m\u001B[36m| \u001B[97m\u001B[1mКоличество людей, которые работают 99 ч в неделю СРЕДИ МНОГО ЗАРАБАТЫВАЮЩИХ - 25\u001B[0m\u001B[36m |\u001B[0m\n",
      "\u001B[1m\u001B[36m+----------------------------------------------------------------------------------+\u001B[0m\n",
      "\n",
      "\u001B[1m\u001B[31m+-----------------------------------------------------------------------------+\u001B[0m\n",
      "\u001B[1m\u001B[31m| \u001B[97m\u001B[1mПроцент людей, которые работают 99 ч в неделю и зарабатывают много - 29.41%\u001B[0m\u001B[31m |\u001B[0m\n",
      "\u001B[1m\u001B[31m+-----------------------------------------------------------------------------+\u001B[0m\n"
     ]
    }
   ],
   "execution_count": 10
  },
  {
   "cell_type": "markdown",
   "metadata": {},
   "source": [
    "**10. Посчитайте среднее время работы (*hours-per-week*) зарабатывающих мало и много (*salary*) для каждой страны (*native-country*).**"
   ]
  },
  {
   "cell_type": "code",
   "metadata": {
    "scrolled": true,
    "ExecuteTime": {
     "end_time": "2025-10-24T19:39:41.468941Z",
     "start_time": "2025-10-24T19:39:41.442989Z"
    }
   },
   "source": [
    "filtered_data = data[data['native-country'] != '?']\n",
    "\n",
    "avg_hours_per_week = filtered_data.groupby(['native-country', 'salary'])['hours-per-week'].mean().round(3)\n",
    "\n",
    "Message.print_message(\n",
    "    'Cреднее время работы зарабатывающих мало и много для каждой страны отображено в таблице ниже: ',\n",
    "    Color.BLUE,\n",
    "    Color.LIGHT_WHITE\n",
    ")\n",
    "\n",
    "avg_hours_per_week\n"
   ],
   "outputs": [
    {
     "name": "stdout",
     "output_type": "stream",
     "text": [
      "\n",
      "\u001B[1m\u001B[34m+------------------------------------------------------------------------------------------------+\u001B[0m\n",
      "\u001B[1m\u001B[34m| \u001B[97m\u001B[1mCреднее время работы зарабатывающих мало и много для каждой страны отображено в таблице ниже: \u001B[0m\u001B[34m |\u001B[0m\n",
      "\u001B[1m\u001B[34m+------------------------------------------------------------------------------------------------+\u001B[0m\n"
     ]
    },
    {
     "data": {
      "text/plain": [
       "native-country  salary\n",
       "Cambodia        <=50K     41.417\n",
       "                >50K      40.000\n",
       "Canada          <=50K     37.915\n",
       "                >50K      45.641\n",
       "China           <=50K     37.382\n",
       "                           ...  \n",
       "United-States   >50K      45.505\n",
       "Vietnam         <=50K     37.194\n",
       "                >50K      39.200\n",
       "Yugoslavia      <=50K     41.600\n",
       "                >50K      49.500\n",
       "Name: hours-per-week, Length: 80, dtype: float64"
      ]
     },
     "execution_count": 11,
     "metadata": {},
     "output_type": "execute_result"
    }
   ],
   "execution_count": 11
  },
  {
   "cell_type": "markdown",
   "metadata": {},
   "source": [
    "**11.Сгруппируйте людей по возрастным группам *young*, *adult*, *retiree*, где:**\n",
    "* *young* соответствует 16-35 лет\n",
    "* *adult* - 35-70 лет\n",
    "* *retiree* - 70-100 лет\n",
    "\n",
    "**Проставьте название соответсвтуещей группы для каждого человека в новой колонке AgeGroup**"
   ]
  },
  {
   "cell_type": "code",
   "metadata": {
    "scrolled": true,
    "ExecuteTime": {
     "end_time": "2025-10-24T19:39:41.910306Z",
     "start_time": "2025-10-24T19:39:41.895786Z"
    }
   },
   "source": [
    "diapason = [16, 35, 70, 100]\n",
    "\n",
    "labels = ['Young', 'Adult', 'Retiree']\n",
    "\n",
    "data['AgeGroup'] = pd.cut(x=data['age'],\n",
    "                          bins=diapason,\n",
    "                          labels=labels)\n",
    "\n",
    "Message.print_message(\n",
    "    'Группировка людей по возрастным группам (young, adult, retiree) отображена в новой колонке AgeGroup в таблице ниже:',\n",
    "    Color.GREEN,\n",
    "    Color.LIGHT_WHITE\n",
    ")\n",
    "\n",
    "data.groupby(['AgeGroup'], observed=True).agg({'age': 'count'})"
   ],
   "outputs": [
    {
     "name": "stdout",
     "output_type": "stream",
     "text": [
      "\n",
      "\u001B[1m\u001B[32m+---------------------------------------------------------------------------------------------------------------------+\u001B[0m\n",
      "\u001B[1m\u001B[32m| \u001B[97m\u001B[1mГруппировка людей по возрастным группам (young, adult, retiree) отображена в новой колонке AgeGroup в таблице ниже:\u001B[0m\u001B[32m |\u001B[0m\n",
      "\u001B[1m\u001B[32m+---------------------------------------------------------------------------------------------------------------------+\u001B[0m\n"
     ]
    },
    {
     "data": {
      "text/plain": [
       "            age\n",
       "AgeGroup       \n",
       "Young     14925\n",
       "Adult     17096\n",
       "Retiree     540"
      ],
      "text/html": [
       "<div>\n",
       "<style scoped>\n",
       "    .dataframe tbody tr th:only-of-type {\n",
       "        vertical-align: middle;\n",
       "    }\n",
       "\n",
       "    .dataframe tbody tr th {\n",
       "        vertical-align: top;\n",
       "    }\n",
       "\n",
       "    .dataframe thead th {\n",
       "        text-align: right;\n",
       "    }\n",
       "</style>\n",
       "<table border=\"1\" class=\"dataframe\">\n",
       "  <thead>\n",
       "    <tr style=\"text-align: right;\">\n",
       "      <th></th>\n",
       "      <th>age</th>\n",
       "    </tr>\n",
       "    <tr>\n",
       "      <th>AgeGroup</th>\n",
       "      <th></th>\n",
       "    </tr>\n",
       "  </thead>\n",
       "  <tbody>\n",
       "    <tr>\n",
       "      <th>Young</th>\n",
       "      <td>14925</td>\n",
       "    </tr>\n",
       "    <tr>\n",
       "      <th>Adult</th>\n",
       "      <td>17096</td>\n",
       "    </tr>\n",
       "    <tr>\n",
       "      <th>Retiree</th>\n",
       "      <td>540</td>\n",
       "    </tr>\n",
       "  </tbody>\n",
       "</table>\n",
       "</div>"
      ]
     },
     "execution_count": 12,
     "metadata": {},
     "output_type": "execute_result"
    }
   ],
   "execution_count": 12
  },
  {
   "cell_type": "markdown",
   "metadata": {},
   "source": [
    "**12-13. Определите количество зарабатывающих >50K в каждой из возрастных групп (колонка AgeGroup), а также выведите название возрастной группы, в которой чаще зарабатывают больше 50К (>50K)**"
   ]
  },
  {
   "cell_type": "code",
   "metadata": {
    "ExecuteTime": {
     "end_time": "2025-10-24T19:39:42.587217Z",
     "start_time": "2025-10-24T19:39:42.563715Z"
    }
   },
   "source": [
    "age_category = {'Adult': 'Взрослая', 'Young': 'Молодая', 'Retire': 'Пожилая'}\n",
    "\n",
    "high_salary = data[data['salary'] == '>50K']\n",
    "age_groups = high_salary['AgeGroup'].value_counts()\n",
    "answer = age_groups.idxmax()\n",
    "\n",
    "Message.print_message(\n",
    "    f'Название возрастной группы, в которой чаще зарабатывают больше 50К - {age_category[answer]}',\n",
    "    Color.GREEN,\n",
    "    Color.LIGHT_WHITE\n",
    ")\n",
    "\n",
    "Message.print_message(\n",
    "    'Количество зарабатывающих >50K в каждой из возрастных групп (колонка AgeGroup) отображено в таблице ниже: ',\n",
    "    Color.BLUE,\n",
    "    Color.LIGHT_WHITE\n",
    ")\n",
    "\n",
    "data.groupby(['AgeGroup', 'salary'], observed=True).agg({'salary': 'count'})\n"
   ],
   "outputs": [
    {
     "name": "stdout",
     "output_type": "stream",
     "text": [
      "\n",
      "\u001B[1m\u001B[32m+-------------------------------------------------------------------------------+\u001B[0m\n",
      "\u001B[1m\u001B[32m| \u001B[97m\u001B[1mНазвание возрастной группы, в которой чаще зарабатывают больше 50К - Взрослая\u001B[0m\u001B[32m |\u001B[0m\n",
      "\u001B[1m\u001B[32m+-------------------------------------------------------------------------------+\u001B[0m\n",
      "\n",
      "\u001B[1m\u001B[34m+------------------------------------------------------------------------------------------------------------+\u001B[0m\n",
      "\u001B[1m\u001B[34m| \u001B[97m\u001B[1mКоличество зарабатывающих >50K в каждой из возрастных групп (колонка AgeGroup) отображено в таблице ниже: \u001B[0m\u001B[34m |\u001B[0m\n",
      "\u001B[1m\u001B[34m+------------------------------------------------------------------------------------------------------------+\u001B[0m\n"
     ]
    },
    {
     "data": {
      "text/plain": [
       "                 salary\n",
       "AgeGroup salary        \n",
       "Young    <=50K    13220\n",
       "         >50K      1705\n",
       "Adult    <=50K    11054\n",
       "         >50K      6042\n",
       "Retiree  <=50K      446\n",
       "         >50K        94"
      ],
      "text/html": [
       "<div>\n",
       "<style scoped>\n",
       "    .dataframe tbody tr th:only-of-type {\n",
       "        vertical-align: middle;\n",
       "    }\n",
       "\n",
       "    .dataframe tbody tr th {\n",
       "        vertical-align: top;\n",
       "    }\n",
       "\n",
       "    .dataframe thead th {\n",
       "        text-align: right;\n",
       "    }\n",
       "</style>\n",
       "<table border=\"1\" class=\"dataframe\">\n",
       "  <thead>\n",
       "    <tr style=\"text-align: right;\">\n",
       "      <th></th>\n",
       "      <th></th>\n",
       "      <th>salary</th>\n",
       "    </tr>\n",
       "    <tr>\n",
       "      <th>AgeGroup</th>\n",
       "      <th>salary</th>\n",
       "      <th></th>\n",
       "    </tr>\n",
       "  </thead>\n",
       "  <tbody>\n",
       "    <tr>\n",
       "      <th rowspan=\"2\" valign=\"top\">Young</th>\n",
       "      <th>&lt;=50K</th>\n",
       "      <td>13220</td>\n",
       "    </tr>\n",
       "    <tr>\n",
       "      <th>&gt;50K</th>\n",
       "      <td>1705</td>\n",
       "    </tr>\n",
       "    <tr>\n",
       "      <th rowspan=\"2\" valign=\"top\">Adult</th>\n",
       "      <th>&lt;=50K</th>\n",
       "      <td>11054</td>\n",
       "    </tr>\n",
       "    <tr>\n",
       "      <th>&gt;50K</th>\n",
       "      <td>6042</td>\n",
       "    </tr>\n",
       "    <tr>\n",
       "      <th rowspan=\"2\" valign=\"top\">Retiree</th>\n",
       "      <th>&lt;=50K</th>\n",
       "      <td>446</td>\n",
       "    </tr>\n",
       "    <tr>\n",
       "      <th>&gt;50K</th>\n",
       "      <td>94</td>\n",
       "    </tr>\n",
       "  </tbody>\n",
       "</table>\n",
       "</div>"
      ]
     },
     "execution_count": 13,
     "metadata": {},
     "output_type": "execute_result"
    }
   ],
   "execution_count": 13
  },
  {
   "cell_type": "markdown",
   "metadata": {},
   "source": [
    "**14. Сгруппируйте людей по типу занятости (колонка occupation) и определите количество людей в каждой группе. После чего напишите функциюю фильтрации filter_func, которая будет возвращать только те группы, в которых средний возраст (колонка age) не больше 40 и в которых все работники отрабатывают более 5 часов в неделю (колонка hours-per-week)**"
   ]
  },
  {
   "cell_type": "code",
   "metadata": {
    "ExecuteTime": {
     "end_time": "2025-10-24T19:43:14.316067Z",
     "start_time": "2025-10-24T19:43:14.287079Z"
    }
   },
   "source": [
    "filtered_data = data[data['occupation'] != '?']\n",
    "\n",
    "avg_age = filtered_data['occupation'].value_counts()\n",
    "\n",
    "Message.print_message(\n",
    "    'Типы занятости и количество людей в каждой группе отображены в таблице ниже:',\n",
    "    Color.GREEN,\n",
    "    Color.LIGHT_WHITE\n",
    ")\n",
    "\n",
    "print(avg_age)\n",
    "\n",
    "def filter_func(dataset: pd.DataFrame):\n",
    "    age_condition = dataset['age'].mean() <= 40\n",
    "    hours_condition = (dataset['hours-per-week'] > 5).all()\n",
    "    return age_condition and hours_condition\n",
    "\n",
    "grouped_occupations = filtered_data.groupby('occupation').filter(filter_func)\n",
    "\n",
    "passed_occupations = grouped_occupations['occupation'].unique()\n",
    "\n",
    "Message.print_message(\n",
    "    f'Типы занятости, прошедшие фильтрацию (ср. возраст ≤ 40 и все >5 часов/нед): {passed_occupations}',\n",
    "    Color.PURPLE,\n",
    "    Color.LIGHT_WHITE\n",
    ")\n",
    "\n",
    "Message.print_message(\n",
    "    'Итоговые группы после фильтрации отображены в таблице ниже:',\n",
    "    Color.BLUE,\n",
    "    Color.LIGHT_WHITE\n",
    ")\n",
    "\n",
    "grouped_occupations\n"
   ],
   "outputs": [
    {
     "name": "stdout",
     "output_type": "stream",
     "text": [
      "\n",
      "\u001B[1m\u001B[32m+------------------------------------------------------------------------------+\u001B[0m\n",
      "\u001B[1m\u001B[32m| \u001B[97m\u001B[1mТипы занятости и количество людей в каждой группе отображены в таблице ниже:\u001B[0m\u001B[32m |\u001B[0m\n",
      "\u001B[1m\u001B[32m+------------------------------------------------------------------------------+\u001B[0m\n",
      "occupation\n",
      "Prof-specialty       4140\n",
      "Craft-repair         4099\n",
      "Exec-managerial      4066\n",
      "Adm-clerical         3770\n",
      "Sales                3650\n",
      "Other-service        3295\n",
      "Machine-op-inspct    2002\n",
      "Transport-moving     1597\n",
      "Handlers-cleaners    1370\n",
      "Farming-fishing       994\n",
      "Tech-support          928\n",
      "Protective-serv       649\n",
      "Priv-house-serv       149\n",
      "Armed-Forces            9\n",
      "Name: count, dtype: int64\n",
      "\n",
      "\u001B[1m\u001B[35m+----------------------------------------------------------------------------------------------+\u001B[0m\n",
      "\u001B[1m\u001B[35m| \u001B[97m\u001B[1mТипы занятости, прошедшие фильтрацию (ср. возраст ≤ 40 и все >5 часов/нед): ['Armed-Forces']\u001B[0m\u001B[35m |\u001B[0m\n",
      "\u001B[1m\u001B[35m+----------------------------------------------------------------------------------------------+\u001B[0m\n",
      "\n",
      "\u001B[1m\u001B[34m+-------------------------------------------------------------+\u001B[0m\n",
      "\u001B[1m\u001B[34m| \u001B[97m\u001B[1mИтоговые группы после фильтрации отображены в таблице ниже:\u001B[0m\u001B[34m |\u001B[0m\n",
      "\u001B[1m\u001B[34m+-------------------------------------------------------------+\u001B[0m\n"
     ]
    },
    {
     "data": {
      "text/plain": [
       "       age    workclass  fnlwgt     education  education-num  \\\n",
       "442     24  Federal-gov  191073       HS-grad              9   \n",
       "1300    29  Federal-gov  301010  Some-college             10   \n",
       "14613   39  Federal-gov  227597       HS-grad              9   \n",
       "16111   24  Federal-gov  287988     Bachelors             13   \n",
       "18034   34  Federal-gov  172716          12th              8   \n",
       "18644   23  Federal-gov  163870  Some-college             10   \n",
       "18769   30  Federal-gov   76313       HS-grad              9   \n",
       "25799   46  Federal-gov  344415       Masters             14   \n",
       "32316   23  Federal-gov  173851       HS-grad              9   \n",
       "\n",
       "           marital-status    occupation    relationship                race  \\\n",
       "442         Never-married  Armed-Forces       Own-child               White   \n",
       "1300        Never-married  Armed-Forces   Not-in-family               Black   \n",
       "14613       Never-married  Armed-Forces   Not-in-family               White   \n",
       "16111       Never-married  Armed-Forces   Not-in-family               White   \n",
       "18034  Married-civ-spouse  Armed-Forces         Husband               White   \n",
       "18644       Never-married  Armed-Forces  Other-relative               White   \n",
       "18769  Married-civ-spouse  Armed-Forces  Other-relative  Amer-Indian-Eskimo   \n",
       "25799  Married-civ-spouse  Armed-Forces         Husband               White   \n",
       "32316       Never-married  Armed-Forces   Not-in-family               White   \n",
       "\n",
       "        sex  capital-gain  capital-loss  hours-per-week native-country salary  \\\n",
       "442    Male             0             0              40  United-States  <=50K   \n",
       "1300   Male             0             0              60  United-States  <=50K   \n",
       "14613  Male             0             0              50  United-States  <=50K   \n",
       "16111  Male             0             0              40  United-States  <=50K   \n",
       "18034  Male             0             0              40  United-States  <=50K   \n",
       "18644  Male             0             0              40  United-States  <=50K   \n",
       "18769  Male             0             0              48  United-States  <=50K   \n",
       "25799  Male             0          1887              40  United-States   >50K   \n",
       "32316  Male             0             0               8  United-States  <=50K   \n",
       "\n",
       "      AgeGroup  \n",
       "442      Young  \n",
       "1300     Young  \n",
       "14613    Adult  \n",
       "16111    Young  \n",
       "18034    Young  \n",
       "18644    Young  \n",
       "18769    Young  \n",
       "25799    Adult  \n",
       "32316    Young  "
      ],
      "text/html": [
       "<div>\n",
       "<style scoped>\n",
       "    .dataframe tbody tr th:only-of-type {\n",
       "        vertical-align: middle;\n",
       "    }\n",
       "\n",
       "    .dataframe tbody tr th {\n",
       "        vertical-align: top;\n",
       "    }\n",
       "\n",
       "    .dataframe thead th {\n",
       "        text-align: right;\n",
       "    }\n",
       "</style>\n",
       "<table border=\"1\" class=\"dataframe\">\n",
       "  <thead>\n",
       "    <tr style=\"text-align: right;\">\n",
       "      <th></th>\n",
       "      <th>age</th>\n",
       "      <th>workclass</th>\n",
       "      <th>fnlwgt</th>\n",
       "      <th>education</th>\n",
       "      <th>education-num</th>\n",
       "      <th>marital-status</th>\n",
       "      <th>occupation</th>\n",
       "      <th>relationship</th>\n",
       "      <th>race</th>\n",
       "      <th>sex</th>\n",
       "      <th>capital-gain</th>\n",
       "      <th>capital-loss</th>\n",
       "      <th>hours-per-week</th>\n",
       "      <th>native-country</th>\n",
       "      <th>salary</th>\n",
       "      <th>AgeGroup</th>\n",
       "    </tr>\n",
       "  </thead>\n",
       "  <tbody>\n",
       "    <tr>\n",
       "      <th>442</th>\n",
       "      <td>24</td>\n",
       "      <td>Federal-gov</td>\n",
       "      <td>191073</td>\n",
       "      <td>HS-grad</td>\n",
       "      <td>9</td>\n",
       "      <td>Never-married</td>\n",
       "      <td>Armed-Forces</td>\n",
       "      <td>Own-child</td>\n",
       "      <td>White</td>\n",
       "      <td>Male</td>\n",
       "      <td>0</td>\n",
       "      <td>0</td>\n",
       "      <td>40</td>\n",
       "      <td>United-States</td>\n",
       "      <td>&lt;=50K</td>\n",
       "      <td>Young</td>\n",
       "    </tr>\n",
       "    <tr>\n",
       "      <th>1300</th>\n",
       "      <td>29</td>\n",
       "      <td>Federal-gov</td>\n",
       "      <td>301010</td>\n",
       "      <td>Some-college</td>\n",
       "      <td>10</td>\n",
       "      <td>Never-married</td>\n",
       "      <td>Armed-Forces</td>\n",
       "      <td>Not-in-family</td>\n",
       "      <td>Black</td>\n",
       "      <td>Male</td>\n",
       "      <td>0</td>\n",
       "      <td>0</td>\n",
       "      <td>60</td>\n",
       "      <td>United-States</td>\n",
       "      <td>&lt;=50K</td>\n",
       "      <td>Young</td>\n",
       "    </tr>\n",
       "    <tr>\n",
       "      <th>14613</th>\n",
       "      <td>39</td>\n",
       "      <td>Federal-gov</td>\n",
       "      <td>227597</td>\n",
       "      <td>HS-grad</td>\n",
       "      <td>9</td>\n",
       "      <td>Never-married</td>\n",
       "      <td>Armed-Forces</td>\n",
       "      <td>Not-in-family</td>\n",
       "      <td>White</td>\n",
       "      <td>Male</td>\n",
       "      <td>0</td>\n",
       "      <td>0</td>\n",
       "      <td>50</td>\n",
       "      <td>United-States</td>\n",
       "      <td>&lt;=50K</td>\n",
       "      <td>Adult</td>\n",
       "    </tr>\n",
       "    <tr>\n",
       "      <th>16111</th>\n",
       "      <td>24</td>\n",
       "      <td>Federal-gov</td>\n",
       "      <td>287988</td>\n",
       "      <td>Bachelors</td>\n",
       "      <td>13</td>\n",
       "      <td>Never-married</td>\n",
       "      <td>Armed-Forces</td>\n",
       "      <td>Not-in-family</td>\n",
       "      <td>White</td>\n",
       "      <td>Male</td>\n",
       "      <td>0</td>\n",
       "      <td>0</td>\n",
       "      <td>40</td>\n",
       "      <td>United-States</td>\n",
       "      <td>&lt;=50K</td>\n",
       "      <td>Young</td>\n",
       "    </tr>\n",
       "    <tr>\n",
       "      <th>18034</th>\n",
       "      <td>34</td>\n",
       "      <td>Federal-gov</td>\n",
       "      <td>172716</td>\n",
       "      <td>12th</td>\n",
       "      <td>8</td>\n",
       "      <td>Married-civ-spouse</td>\n",
       "      <td>Armed-Forces</td>\n",
       "      <td>Husband</td>\n",
       "      <td>White</td>\n",
       "      <td>Male</td>\n",
       "      <td>0</td>\n",
       "      <td>0</td>\n",
       "      <td>40</td>\n",
       "      <td>United-States</td>\n",
       "      <td>&lt;=50K</td>\n",
       "      <td>Young</td>\n",
       "    </tr>\n",
       "    <tr>\n",
       "      <th>18644</th>\n",
       "      <td>23</td>\n",
       "      <td>Federal-gov</td>\n",
       "      <td>163870</td>\n",
       "      <td>Some-college</td>\n",
       "      <td>10</td>\n",
       "      <td>Never-married</td>\n",
       "      <td>Armed-Forces</td>\n",
       "      <td>Other-relative</td>\n",
       "      <td>White</td>\n",
       "      <td>Male</td>\n",
       "      <td>0</td>\n",
       "      <td>0</td>\n",
       "      <td>40</td>\n",
       "      <td>United-States</td>\n",
       "      <td>&lt;=50K</td>\n",
       "      <td>Young</td>\n",
       "    </tr>\n",
       "    <tr>\n",
       "      <th>18769</th>\n",
       "      <td>30</td>\n",
       "      <td>Federal-gov</td>\n",
       "      <td>76313</td>\n",
       "      <td>HS-grad</td>\n",
       "      <td>9</td>\n",
       "      <td>Married-civ-spouse</td>\n",
       "      <td>Armed-Forces</td>\n",
       "      <td>Other-relative</td>\n",
       "      <td>Amer-Indian-Eskimo</td>\n",
       "      <td>Male</td>\n",
       "      <td>0</td>\n",
       "      <td>0</td>\n",
       "      <td>48</td>\n",
       "      <td>United-States</td>\n",
       "      <td>&lt;=50K</td>\n",
       "      <td>Young</td>\n",
       "    </tr>\n",
       "    <tr>\n",
       "      <th>25799</th>\n",
       "      <td>46</td>\n",
       "      <td>Federal-gov</td>\n",
       "      <td>344415</td>\n",
       "      <td>Masters</td>\n",
       "      <td>14</td>\n",
       "      <td>Married-civ-spouse</td>\n",
       "      <td>Armed-Forces</td>\n",
       "      <td>Husband</td>\n",
       "      <td>White</td>\n",
       "      <td>Male</td>\n",
       "      <td>0</td>\n",
       "      <td>1887</td>\n",
       "      <td>40</td>\n",
       "      <td>United-States</td>\n",
       "      <td>&gt;50K</td>\n",
       "      <td>Adult</td>\n",
       "    </tr>\n",
       "    <tr>\n",
       "      <th>32316</th>\n",
       "      <td>23</td>\n",
       "      <td>Federal-gov</td>\n",
       "      <td>173851</td>\n",
       "      <td>HS-grad</td>\n",
       "      <td>9</td>\n",
       "      <td>Never-married</td>\n",
       "      <td>Armed-Forces</td>\n",
       "      <td>Not-in-family</td>\n",
       "      <td>White</td>\n",
       "      <td>Male</td>\n",
       "      <td>0</td>\n",
       "      <td>0</td>\n",
       "      <td>8</td>\n",
       "      <td>United-States</td>\n",
       "      <td>&lt;=50K</td>\n",
       "      <td>Young</td>\n",
       "    </tr>\n",
       "  </tbody>\n",
       "</table>\n",
       "</div>"
      ]
     },
     "execution_count": 20,
     "metadata": {},
     "output_type": "execute_result"
    }
   ],
   "execution_count": 20
  },
  {
   "metadata": {
    "ExecuteTime": {
     "end_time": "2025-10-24T19:44:57.741146Z",
     "start_time": "2025-10-24T19:44:57.737670Z"
    }
   },
   "cell_type": "code",
   "source": "Developer.print_info_of_developer()",
   "outputs": [
    {
     "name": "stdout",
     "output_type": "stream",
     "text": [
      "\n",
      "\n",
      "\u001B[1m\u001B[97m+--------------------------------------------------------------+\u001B[0m\n",
      "\u001B[1m\u001B[97m| \u001B[36m\u001B[1mЗадание было выполнено стажером Big Data в компании Innowise\u001B[0m\u001B[97m |\u001B[0m\n",
      "\u001B[1m\u001B[97m+--------------------------------------------------------------+\u001B[0m\n",
      "\n",
      "\u001B[1m\u001B[97m+--------------------------------------------------+\u001B[0m\n",
      "\u001B[1m\u001B[97m| \u001B[32m\u001B[1mBig Data Engineer: Панфиленко Станислав Игоревич\u001B[0m\u001B[97m |\u001B[0m\n",
      "\u001B[1m\u001B[97m+--------------------------------------------------+\u001B[0m\n",
      "\n",
      "\u001B[1m\u001B[97m+----------------------------------------------------------+\u001B[0m\n",
      "\u001B[1m\u001B[97m| \u001B[34m\u001B[1mЛичная электронная почта: stanislav.panfilenko@gmail.com\u001B[0m\u001B[97m |\u001B[0m\n",
      "\u001B[1m\u001B[97m+----------------------------------------------------------+\u001B[0m\n",
      "\n"
     ]
    }
   ],
   "execution_count": 3
  }
 ],
 "metadata": {
  "anaconda-cloud": {},
  "kernelspec": {
   "display_name": "Python 3 (ipykernel)",
   "language": "python",
   "name": "python3"
  },
  "language_info": {
   "codemirror_mode": {
    "name": "ipython",
    "version": 3
   },
   "file_extension": ".py",
   "mimetype": "text/x-python",
   "name": "python",
   "nbconvert_exporter": "python",
   "pygments_lexer": "ipython3",
   "version": "3.8.10"
  }
 },
 "nbformat": 4,
 "nbformat_minor": 1
}
