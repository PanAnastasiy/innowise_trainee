{
 "cells": [
  {
   "cell_type": "markdown",
   "id": "d3df79dd",
   "metadata": {},
   "source": [
    "## Упражнения по библиотеке Numpy"
   ]
  },
  {
   "cell_type": "code",
   "id": "76b9c43b",
   "metadata": {
    "ExecuteTime": {
     "end_time": "2025-10-25T11:20:41.150878Z",
     "start_time": "2025-10-25T11:20:18.926947Z"
    }
   },
   "source": [
    "from collections import Counter\n",
    "import numpy as np\n",
    "from TASKS.utils.design import *\n",
    "from TASKS.consts import NUMPY_CSV_PATH\n",
    "from scipy.spatial.distance import cdist\n",
    "import time\n",
    "import pandas as pd\n",
    "from TASKS.utils.graphic.builder import Builder"
   ],
   "outputs": [],
   "execution_count": 1
  },
  {
   "cell_type": "markdown",
   "id": "03727b7c",
   "metadata": {},
   "source": [
    "**1.** Дан случайный массив, поменять знак у элементов, значения которых между 3 и 8"
   ]
  },
  {
   "cell_type": "code",
   "id": "b89a7523",
   "metadata": {
    "ExecuteTime": {
     "end_time": "2025-10-24T22:11:44.787656Z",
     "start_time": "2025-10-24T22:11:44.778721Z"
    }
   },
   "source": [
    "arr = np.random.randint(0, 10, size=20)\n",
    "\n",
    "Message.print_message(f'Сформированный массив: {arr}', Color.BLUE, Color.LIGHT_WHITE)\n",
    "\n",
    "matching_mask = (arr > 3) & (arr < 8)\n",
    "\n",
    "arr[matching_mask] *= - 1\n",
    "\n",
    "Message.print_message(f'Итоговый массив NumPy имеет вид: {arr}', Color.GREEN, Color.LIGHT_WHITE)\n"
   ],
   "outputs": [
    {
     "name": "stdout",
     "output_type": "stream",
     "text": [
      "\n",
      "\u001B[1m\u001B[34m+------------------------------------------------------------------+\u001B[0m\n",
      "\u001B[1m\u001B[34m| \u001B[97m\u001B[1mСформированный массив: [8 2 1 9 3 9 2 0 5 4 3 5 3 6 0 1 6 0 4 9]\u001B[0m\u001B[34m |\u001B[0m\n",
      "\u001B[1m\u001B[34m+------------------------------------------------------------------+\u001B[0m\n",
      "\n",
      "\u001B[1m\u001B[32m+------------------------------------------------------------------------------------------------+\u001B[0m\n",
      "\u001B[1m\u001B[32m| \u001B[97m\u001B[1mИтоговый массив NumPy имеет вид: [ 8  2  1  9  3  9  2  0 -5 -4  3 -5  3 -6  0  1 -6  0 -4  9]\u001B[0m\u001B[32m |\u001B[0m\n",
      "\u001B[1m\u001B[32m+------------------------------------------------------------------------------------------------+\u001B[0m\n"
     ]
    }
   ],
   "execution_count": 42
  },
  {
   "cell_type": "markdown",
   "id": "5fa4abda",
   "metadata": {},
   "source": [
    "**2.** Заменить максимальный элемент случайного массива на 0"
   ]
  },
  {
   "cell_type": "code",
   "id": "f2788a6e",
   "metadata": {
    "ExecuteTime": {
     "end_time": "2025-10-24T22:12:02.921580Z",
     "start_time": "2025-10-24T22:12:02.914178Z"
    }
   },
   "source": [
    "arr = np.random.randint(1, 10, size=20)\n",
    "\n",
    "Message.print_message(f'Сформированный массив: {arr}',\n",
    "                      Color.BLUE,\n",
    "                      Color.LIGHT_WHITE)\n",
    "\n",
    "matching_mask = arr == arr.max()\n",
    "\n",
    "arr[matching_mask] = 0\n",
    "\n",
    "Message.print_message(f'Итоговый массив NumPy имеет вид: {arr}',\n",
    "                      Color.GREEN,\n",
    "                      Color.LIGHT_WHITE)\n"
   ],
   "outputs": [
    {
     "name": "stdout",
     "output_type": "stream",
     "text": [
      "\n",
      "\u001B[1m\u001B[34m+------------------------------------------------------------------+\u001B[0m\n",
      "\u001B[1m\u001B[34m| \u001B[97m\u001B[1mСформированный массив: [3 4 2 5 6 5 5 3 7 9 3 1 8 1 2 9 6 9 9 9]\u001B[0m\u001B[34m |\u001B[0m\n",
      "\u001B[1m\u001B[34m+------------------------------------------------------------------+\u001B[0m\n",
      "\n",
      "\u001B[1m\u001B[32m+----------------------------------------------------------------------------+\u001B[0m\n",
      "\u001B[1m\u001B[32m| \u001B[97m\u001B[1mИтоговый массив NumPy имеет вид: [3 4 2 5 6 5 5 3 7 0 3 1 8 1 2 0 6 0 0 0]\u001B[0m\u001B[32m |\u001B[0m\n",
      "\u001B[1m\u001B[32m+----------------------------------------------------------------------------+\u001B[0m\n"
     ]
    }
   ],
   "execution_count": 43
  },
  {
   "cell_type": "markdown",
   "id": "3cac656b",
   "metadata": {},
   "source": [
    "**3.** Построить прямое произведение массивов (все комбинации с каждым элементом). На вход подается двумерный массив"
   ]
  },
  {
   "cell_type": "code",
   "id": "3396b764",
   "metadata": {
    "ExecuteTime": {
     "end_time": "2025-10-24T20:28:05.089413Z",
     "start_time": "2025-10-24T20:28:05.074370Z"
    }
   },
   "source": [
    "arr = np.random.randint(1, 10, size= (2, 3))\n",
    "\n",
    "Message.print_matrix(arr, 'Сформированный массив NumPy имеет вид:')\n",
    "\n",
    "grids = np.meshgrid(*arr, indexing='ij')\n",
    "combinations = np.stack(grids, axis=-1).reshape(-1, arr.shape[0])\n",
    "\n",
    "Message.print_matrix(combinations, 'Все комбинации (прямое произведение):')\n"
   ],
   "outputs": [
    {
     "name": "stdout",
     "output_type": "stream",
     "text": [
      "\n",
      "\u001B[1m\u001B[32m+----------------------------------+\u001B[0m\n",
      "\u001B[1m\u001B[32m| \u001B[97m\u001B[1mИсходный массив NumPy имеет вид:\u001B[0m\u001B[32m |\u001B[0m\n",
      "\u001B[1m\u001B[32m+----------------------------------+\u001B[0m\n",
      "\u001B[1m\u001B[35m(  \u001B[1m\u001B[97m8  \u001B[1m\u001B[97m3  \u001B[1m\u001B[97m5  \u001B[1m\u001B[35m)\n",
      "\u001B[1m\u001B[35m(  \u001B[1m\u001B[97m6  \u001B[1m\u001B[97m4  \u001B[1m\u001B[97m7  \u001B[1m\u001B[35m)\n",
      "\n",
      "\u001B[1m\u001B[32m+---------------------------------------+\u001B[0m\n",
      "\u001B[1m\u001B[32m| \u001B[97m\u001B[1mВсе комбинации (прямое произведение):\u001B[0m\u001B[32m |\u001B[0m\n",
      "\u001B[1m\u001B[32m+---------------------------------------+\u001B[0m\n",
      "\u001B[1m\u001B[35m(  \u001B[1m\u001B[97m8  \u001B[1m\u001B[97m6  \u001B[1m\u001B[35m)\n",
      "\u001B[1m\u001B[35m(  \u001B[1m\u001B[97m8  \u001B[1m\u001B[97m4  \u001B[1m\u001B[35m)\n",
      "\u001B[1m\u001B[35m(  \u001B[1m\u001B[97m8  \u001B[1m\u001B[97m7  \u001B[1m\u001B[35m)\n",
      "\u001B[1m\u001B[35m(  \u001B[1m\u001B[97m3  \u001B[1m\u001B[97m6  \u001B[1m\u001B[35m)\n",
      "\u001B[1m\u001B[35m(  \u001B[1m\u001B[97m3  \u001B[1m\u001B[97m4  \u001B[1m\u001B[35m)\n",
      "\u001B[1m\u001B[35m(  \u001B[1m\u001B[97m3  \u001B[1m\u001B[97m7  \u001B[1m\u001B[35m)\n",
      "\u001B[1m\u001B[35m(  \u001B[1m\u001B[97m5  \u001B[1m\u001B[97m6  \u001B[1m\u001B[35m)\n",
      "\u001B[1m\u001B[35m(  \u001B[1m\u001B[97m5  \u001B[1m\u001B[97m4  \u001B[1m\u001B[35m)\n",
      "\u001B[1m\u001B[35m(  \u001B[1m\u001B[97m5  \u001B[1m\u001B[97m7  \u001B[1m\u001B[35m)\n"
     ]
    }
   ],
   "execution_count": 3
  },
  {
   "cell_type": "markdown",
   "id": "674c9354",
   "metadata": {},
   "source": [
    "**4.** Даны 2 массива A (8x3) и B (2x2). Найти строки в A, которые содержат элементы из каждой строки в B, независимо от порядка элементов в B"
   ]
  },
  {
   "cell_type": "code",
   "id": "cb664782",
   "metadata": {
    "ExecuteTime": {
     "end_time": "2025-10-24T22:05:38.817513Z",
     "start_time": "2025-10-24T22:05:38.810101Z"
    }
   },
   "source": [
    "arr_1 = np.random.randint(1, 7, size= (8, 3))\n",
    "arr_2 = np.random.randint(1, 3, size= (2, 2))\n",
    "\n",
    "Message.print_matrix(arr_1, 'Сформированный первый массив NumPy имеет вид:')\n",
    "\n",
    "Message.print_matrix(arr_2, 'Сформированный второй массив NumPy имеет вид:')\n",
    "\n",
    "matching_mask = np.ones(arr_1.shape[0], dtype=bool)\n",
    "\n",
    "for b_row in arr_2:\n",
    "    contains_all = np.all([\n",
    "        np.any(arr_1 == element, axis=1) for element in b_row\n",
    "    ], axis=0)\n",
    "    matching_mask &= contains_all\n",
    "\n",
    "result = arr_1[matching_mask]\n",
    "\n",
    "Message.print_matrix(result, 'строки в A, которые содержат элементы из каждой строки в B, независимо от порядка элементов в B:')\n"
   ],
   "outputs": [
    {
     "name": "stdout",
     "output_type": "stream",
     "text": [
      "\n",
      "\u001B[1m\u001B[34m+-----------------------------------------------+\u001B[0m\n",
      "\u001B[1m\u001B[34m| \u001B[97m\u001B[1mСформированный первый массив NumPy имеет вид:\u001B[0m\u001B[34m |\u001B[0m\n",
      "\u001B[1m\u001B[34m+-----------------------------------------------+\u001B[0m\n",
      "\u001B[1m\u001B[35m(  \u001B[1m\u001B[97m1  \u001B[1m\u001B[97m1  \u001B[1m\u001B[97m2  \u001B[1m\u001B[35m)\n",
      "\u001B[1m\u001B[35m(  \u001B[1m\u001B[97m3  \u001B[1m\u001B[97m5  \u001B[1m\u001B[97m3  \u001B[1m\u001B[35m)\n",
      "\u001B[1m\u001B[35m(  \u001B[1m\u001B[97m4  \u001B[1m\u001B[97m2  \u001B[1m\u001B[97m4  \u001B[1m\u001B[35m)\n",
      "\u001B[1m\u001B[35m(  \u001B[1m\u001B[97m3  \u001B[1m\u001B[97m3  \u001B[1m\u001B[97m6  \u001B[1m\u001B[35m)\n",
      "\u001B[1m\u001B[35m(  \u001B[1m\u001B[97m2  \u001B[1m\u001B[97m6  \u001B[1m\u001B[97m4  \u001B[1m\u001B[35m)\n",
      "\u001B[1m\u001B[35m(  \u001B[1m\u001B[97m4  \u001B[1m\u001B[97m4  \u001B[1m\u001B[97m3  \u001B[1m\u001B[35m)\n",
      "\u001B[1m\u001B[35m(  \u001B[1m\u001B[97m4  \u001B[1m\u001B[97m4  \u001B[1m\u001B[97m2  \u001B[1m\u001B[35m)\n",
      "\u001B[1m\u001B[35m(  \u001B[1m\u001B[97m5  \u001B[1m\u001B[97m2  \u001B[1m\u001B[97m1  \u001B[1m\u001B[35m)\n",
      "\n",
      "\u001B[1m\u001B[34m+-----------------------------------------------+\u001B[0m\n",
      "\u001B[1m\u001B[34m| \u001B[97m\u001B[1mСформированный второй массив NumPy имеет вид:\u001B[0m\u001B[34m |\u001B[0m\n",
      "\u001B[1m\u001B[34m+-----------------------------------------------+\u001B[0m\n",
      "\u001B[1m\u001B[35m(  \u001B[1m\u001B[97m2  \u001B[1m\u001B[97m1  \u001B[1m\u001B[35m)\n",
      "\u001B[1m\u001B[35m(  \u001B[1m\u001B[97m1  \u001B[1m\u001B[97m1  \u001B[1m\u001B[35m)\n",
      "\n",
      "\u001B[1m\u001B[34m+---------------------------------------------------------------------------------------------------+\u001B[0m\n",
      "\u001B[1m\u001B[34m| \u001B[97m\u001B[1mстроки в A, которые содержат элементы из каждой строки в B, независимо от порядка элементов в B :\u001B[0m\u001B[34m |\u001B[0m\n",
      "\u001B[1m\u001B[34m+---------------------------------------------------------------------------------------------------+\u001B[0m\n",
      "\u001B[1m\u001B[35m(  \u001B[1m\u001B[97m1  \u001B[1m\u001B[97m1  \u001B[1m\u001B[97m2  \u001B[1m\u001B[35m)\n",
      "\u001B[1m\u001B[35m(  \u001B[1m\u001B[97m5  \u001B[1m\u001B[97m2  \u001B[1m\u001B[97m1  \u001B[1m\u001B[35m)\n"
     ]
    }
   ],
   "execution_count": 34
  },
  {
   "cell_type": "markdown",
   "id": "fa46533b",
   "metadata": {},
   "source": [
    "**5.** Дана 10x3 матрица, найти строки из неравных значений (например строка [2,2,3] остается, строка [3,3,3] удаляется)"
   ]
  },
  {
   "cell_type": "code",
   "id": "fa545b23",
   "metadata": {
    "ExecuteTime": {
     "end_time": "2025-10-24T22:10:18.512878Z",
     "start_time": "2025-10-24T22:10:18.506824Z"
    }
   },
   "source": [
    "arr = np.random.randint(1, 3, size= (10, 3))\n",
    "\n",
    "Message.print_matrix(arr, 'Сформированный массив NumPy имеет вид:')\n",
    "\n",
    "matching_mask = ~(np.all(arr == arr[:, [0]], axis=1))\n",
    "\n",
    "result = arr[matching_mask]\n",
    "\n",
    "Message.print_matrix(result, 'Cтроки из неравных значений в матрице:')\n"
   ],
   "outputs": [
    {
     "name": "stdout",
     "output_type": "stream",
     "text": [
      "\n",
      "\u001B[1m\u001B[34m+----------------------------------------+\u001B[0m\n",
      "\u001B[1m\u001B[34m| \u001B[97m\u001B[1mСформированный массив NumPy имеет вид:\u001B[0m\u001B[34m |\u001B[0m\n",
      "\u001B[1m\u001B[34m+----------------------------------------+\u001B[0m\n",
      "\u001B[1m\u001B[35m(  \u001B[1m\u001B[97m2  \u001B[1m\u001B[97m2  \u001B[1m\u001B[97m1  \u001B[1m\u001B[35m)\n",
      "\u001B[1m\u001B[35m(  \u001B[1m\u001B[97m1  \u001B[1m\u001B[97m2  \u001B[1m\u001B[97m1  \u001B[1m\u001B[35m)\n",
      "\u001B[1m\u001B[35m(  \u001B[1m\u001B[97m1  \u001B[1m\u001B[97m1  \u001B[1m\u001B[97m1  \u001B[1m\u001B[35m)\n",
      "\u001B[1m\u001B[35m(  \u001B[1m\u001B[97m1  \u001B[1m\u001B[97m2  \u001B[1m\u001B[97m1  \u001B[1m\u001B[35m)\n",
      "\u001B[1m\u001B[35m(  \u001B[1m\u001B[97m1  \u001B[1m\u001B[97m1  \u001B[1m\u001B[97m1  \u001B[1m\u001B[35m)\n",
      "\u001B[1m\u001B[35m(  \u001B[1m\u001B[97m1  \u001B[1m\u001B[97m2  \u001B[1m\u001B[97m2  \u001B[1m\u001B[35m)\n",
      "\u001B[1m\u001B[35m(  \u001B[1m\u001B[97m1  \u001B[1m\u001B[97m1  \u001B[1m\u001B[97m1  \u001B[1m\u001B[35m)\n",
      "\u001B[1m\u001B[35m(  \u001B[1m\u001B[97m2  \u001B[1m\u001B[97m2  \u001B[1m\u001B[97m1  \u001B[1m\u001B[35m)\n",
      "\u001B[1m\u001B[35m(  \u001B[1m\u001B[97m1  \u001B[1m\u001B[97m1  \u001B[1m\u001B[97m1  \u001B[1m\u001B[35m)\n",
      "\u001B[1m\u001B[35m(  \u001B[1m\u001B[97m2  \u001B[1m\u001B[97m2  \u001B[1m\u001B[97m2  \u001B[1m\u001B[35m)\n",
      "\n",
      "\u001B[1m\u001B[34m+----------------------------------------+\u001B[0m\n",
      "\u001B[1m\u001B[34m| \u001B[97m\u001B[1mCтроки из неравных значений в матрице:\u001B[0m\u001B[34m |\u001B[0m\n",
      "\u001B[1m\u001B[34m+----------------------------------------+\u001B[0m\n",
      "\u001B[1m\u001B[35m(  \u001B[1m\u001B[97m2  \u001B[1m\u001B[97m2  \u001B[1m\u001B[97m1  \u001B[1m\u001B[35m)\n",
      "\u001B[1m\u001B[35m(  \u001B[1m\u001B[97m1  \u001B[1m\u001B[97m2  \u001B[1m\u001B[97m1  \u001B[1m\u001B[35m)\n",
      "\u001B[1m\u001B[35m(  \u001B[1m\u001B[97m1  \u001B[1m\u001B[97m2  \u001B[1m\u001B[97m1  \u001B[1m\u001B[35m)\n",
      "\u001B[1m\u001B[35m(  \u001B[1m\u001B[97m1  \u001B[1m\u001B[97m2  \u001B[1m\u001B[97m2  \u001B[1m\u001B[35m)\n",
      "\u001B[1m\u001B[35m(  \u001B[1m\u001B[97m2  \u001B[1m\u001B[97m2  \u001B[1m\u001B[97m1  \u001B[1m\u001B[35m)\n"
     ]
    }
   ],
   "execution_count": 41
  },
  {
   "cell_type": "markdown",
   "id": "28f0d116",
   "metadata": {},
   "source": [
    "**6.** Дан двумерный массив. Удалить те строки, которые повторяются"
   ]
  },
  {
   "cell_type": "code",
   "id": "83d2c0b7",
   "metadata": {
    "ExecuteTime": {
     "end_time": "2025-10-24T22:17:06.289450Z",
     "start_time": "2025-10-24T22:17:06.266954Z"
    }
   },
   "source": [
    "arr = np.random.randint(1, 4, size= (10, 2))\n",
    "\n",
    "Message.print_matrix(arr, 'Сформированный массив NumPy имеет вид:')\n",
    "\n",
    "result_arr = np.unique(arr, axis=0)\n",
    "\n",
    "Message.print_matrix(result_arr, 'Массив после удаления дубликатов имеет вид:')\n"
   ],
   "outputs": [
    {
     "name": "stdout",
     "output_type": "stream",
     "text": [
      "\n",
      "\u001B[1m\u001B[34m+----------------------------------------+\u001B[0m\n",
      "\u001B[1m\u001B[34m| \u001B[97m\u001B[1mСформированный массив NumPy имеет вид:\u001B[0m\u001B[34m |\u001B[0m\n",
      "\u001B[1m\u001B[34m+----------------------------------------+\u001B[0m\n",
      "\u001B[1m\u001B[35m(  \u001B[1m\u001B[97m1  \u001B[1m\u001B[97m1  \u001B[1m\u001B[35m)\n",
      "\u001B[1m\u001B[35m(  \u001B[1m\u001B[97m3  \u001B[1m\u001B[97m2  \u001B[1m\u001B[35m)\n",
      "\u001B[1m\u001B[35m(  \u001B[1m\u001B[97m1  \u001B[1m\u001B[97m3  \u001B[1m\u001B[35m)\n",
      "\u001B[1m\u001B[35m(  \u001B[1m\u001B[97m2  \u001B[1m\u001B[97m3  \u001B[1m\u001B[35m)\n",
      "\u001B[1m\u001B[35m(  \u001B[1m\u001B[97m3  \u001B[1m\u001B[97m3  \u001B[1m\u001B[35m)\n",
      "\u001B[1m\u001B[35m(  \u001B[1m\u001B[97m1  \u001B[1m\u001B[97m1  \u001B[1m\u001B[35m)\n",
      "\u001B[1m\u001B[35m(  \u001B[1m\u001B[97m2  \u001B[1m\u001B[97m1  \u001B[1m\u001B[35m)\n",
      "\u001B[1m\u001B[35m(  \u001B[1m\u001B[97m1  \u001B[1m\u001B[97m3  \u001B[1m\u001B[35m)\n",
      "\u001B[1m\u001B[35m(  \u001B[1m\u001B[97m2  \u001B[1m\u001B[97m3  \u001B[1m\u001B[35m)\n",
      "\u001B[1m\u001B[35m(  \u001B[1m\u001B[97m1  \u001B[1m\u001B[97m2  \u001B[1m\u001B[35m)\n",
      "\n",
      "\u001B[1m\u001B[34m+---------------------------------------------+\u001B[0m\n",
      "\u001B[1m\u001B[34m| \u001B[97m\u001B[1mМассив после удаления дубликатов имеет вид:\u001B[0m\u001B[34m |\u001B[0m\n",
      "\u001B[1m\u001B[34m+---------------------------------------------+\u001B[0m\n",
      "\u001B[1m\u001B[35m(  \u001B[1m\u001B[97m1  \u001B[1m\u001B[97m1  \u001B[1m\u001B[35m)\n",
      "\u001B[1m\u001B[35m(  \u001B[1m\u001B[97m1  \u001B[1m\u001B[97m2  \u001B[1m\u001B[35m)\n",
      "\u001B[1m\u001B[35m(  \u001B[1m\u001B[97m1  \u001B[1m\u001B[97m3  \u001B[1m\u001B[35m)\n",
      "\u001B[1m\u001B[35m(  \u001B[1m\u001B[97m2  \u001B[1m\u001B[97m1  \u001B[1m\u001B[35m)\n",
      "\u001B[1m\u001B[35m(  \u001B[1m\u001B[97m2  \u001B[1m\u001B[97m3  \u001B[1m\u001B[35m)\n",
      "\u001B[1m\u001B[35m(  \u001B[1m\u001B[97m3  \u001B[1m\u001B[97m2  \u001B[1m\u001B[35m)\n",
      "\u001B[1m\u001B[35m(  \u001B[1m\u001B[97m3  \u001B[1m\u001B[97m3  \u001B[1m\u001B[35m)\n"
     ]
    }
   ],
   "execution_count": 44
  },
  {
   "cell_type": "markdown",
   "id": "cfbfcaff",
   "metadata": {},
   "source": [
    "Для каждой из следующих задач (1-5) нужно привести 2 реализации – одна без использования numpy (cчитайте, что там, где на входе или выходе должны быть numpy array, будут просто списки), а вторая полностью векторизованная с использованием numpy (без использования питоновских циклов/map/list comprehension).\n",
    "\n",
    "\n",
    "__Замечание 1.__ Можно считать, что все указанные объекты непустые (к примеру, в __задаче 1__ на диагонали матрицы есть ненулевые элементы).\n",
    "\n",
    "__Замечание 2.__ Для большинства задач решение занимает не больше 1-2 строк."
   ]
  },
  {
   "cell_type": "markdown",
   "id": "ca6f585e",
   "metadata": {},
   "source": [
    "* __Задача 1__: Подсчитать произведение ненулевых элементов на диагонали прямоугольной матрицы.  \n",
    " Например, для X = np.array([[1, 0, 1], [2, 0, 2], [3, 0, 3], [4, 4, 4]]) ответ 3."
   ]
  },
  {
   "cell_type": "code",
   "id": "065862fc",
   "metadata": {
    "ExecuteTime": {
     "end_time": "2025-10-24T21:21:32.201526Z",
     "start_time": "2025-10-24T21:21:32.193529Z"
    }
   },
   "source": [
    "def diagonal_product(matrix: list[list[int]]) -> int:\n",
    "    product = 1\n",
    "    for k in range(min(len(matrix), len(matrix[0]))):\n",
    "        if matrix[k][k] != 0:\n",
    "            product *= matrix[k][k]\n",
    "    return product\n",
    "\n",
    "def diagonal_product_np(array: np.ndarray) -> int:\n",
    "    diagonal = np.diag(array)\n",
    "    non_zero = diagonal[diagonal != 0]\n",
    "    if len(non_zero) == 0:\n",
    "        return 0\n",
    "    return np.prod(non_zero)\n",
    "\n",
    "\n",
    "np_lst = np.random.randint(1, 10, size=(3, 5))\n",
    "lst = np_lst.tolist()\n",
    "\n",
    "Message.print_matrix(np_lst, 'Сформированный массив NumPy имеет вид:')\n",
    "\n",
    "Message.print_message(f'Решение с помощью NumPy, ответ: {diagonal_product_np(np_lst)}',\n",
    "                      Color.GREEN,\n",
    "                      Color.LIGHT_WHITE)\n",
    "\n",
    "\n",
    "Message.print_message(f'Решение без использования NumPy, ответ: {diagonal_product(lst)}',\n",
    "                      Color.RED,\n",
    "                      Color.LIGHT_WHITE)\n"
   ],
   "outputs": [
    {
     "name": "stdout",
     "output_type": "stream",
     "text": [
      "\n",
      "\u001B[1m\u001B[34m+----------------------------------------+\u001B[0m\n",
      "\u001B[1m\u001B[34m| \u001B[97m\u001B[1mСформированный массив NumPy имеет вид:\u001B[0m\u001B[34m |\u001B[0m\n",
      "\u001B[1m\u001B[34m+----------------------------------------+\u001B[0m\n",
      "\u001B[1m\u001B[35m(  \u001B[1m\u001B[97m6  \u001B[1m\u001B[97m2  \u001B[1m\u001B[97m4  \u001B[1m\u001B[97m2  \u001B[1m\u001B[97m4  \u001B[1m\u001B[35m)\n",
      "\u001B[1m\u001B[35m(  \u001B[1m\u001B[97m5  \u001B[1m\u001B[97m5  \u001B[1m\u001B[97m7  \u001B[1m\u001B[97m7  \u001B[1m\u001B[97m7  \u001B[1m\u001B[35m)\n",
      "\u001B[1m\u001B[35m(  \u001B[1m\u001B[97m8  \u001B[1m\u001B[97m7  \u001B[1m\u001B[97m8  \u001B[1m\u001B[97m5  \u001B[1m\u001B[97m6  \u001B[1m\u001B[35m)\n",
      "\n",
      "\u001B[1m\u001B[32m+-------------------------------------+\u001B[0m\n",
      "\u001B[1m\u001B[32m| \u001B[97m\u001B[1mРешение с помощью NumPy, ответ: 240\u001B[0m\u001B[32m |\u001B[0m\n",
      "\u001B[1m\u001B[32m+-------------------------------------+\u001B[0m\n",
      "\n",
      "\u001B[1m\u001B[31m+---------------------------------------------+\u001B[0m\n",
      "\u001B[1m\u001B[31m| \u001B[97m\u001B[1mРешение без использования NumPy, ответ: 240\u001B[0m\u001B[31m |\u001B[0m\n",
      "\u001B[1m\u001B[31m+---------------------------------------------+\u001B[0m\n"
     ]
    }
   ],
   "execution_count": 5
  },
  {
   "cell_type": "markdown",
   "id": "9fc51d41",
   "metadata": {},
   "source": [
    "* __Задача 2__: Даны два вектора x и y. Проверить, задают ли они одно и то же мультимножество.  \n",
    "  Например, для x = np.array([1, 2, 2, 4]), y = np.array([4, 2, 1, 2]) ответ True."
   ]
  },
  {
   "cell_type": "code",
   "id": "a809e02f",
   "metadata": {
    "ExecuteTime": {
     "end_time": "2025-10-24T21:37:51.278861Z",
     "start_time": "2025-10-24T21:37:51.271797Z"
    }
   },
   "source": [
    "def is_multiset(array1: list[int], array2: list[int]) -> bool:\n",
    "    return Counter(array1) == Counter(array2)\n",
    "\n",
    "def is_multiset_np(array1: np.ndarray, array2: np.ndarray ) -> bool:\n",
    "    \n",
    "    return np.array_equal(np.sort(array1), np.sort(array2))\n",
    "\n",
    "\n",
    "np_lst_1 = np.random.randint(1, 3, size=5)\n",
    "np_lst_2 = np.random.randint(1, 3, size=5)\n",
    "\n",
    "lst_1 = np_lst_1.tolist()\n",
    "lst_2 = np_lst_2.tolist()\n",
    "\n",
    "Message.print_message(f'Сформированный ПЕРВЫЙ массив NumPy имеет вид: {np_lst_1}',\n",
    "                      Color.PURPLE,\n",
    "                      Color.LIGHT_WHITE)\n",
    "\n",
    "Message.print_message(f'Сформированный ВТОРОЙ массив NumPy имеет вид: {np_lst_2}',\n",
    "                      Color.PURPLE,\n",
    "                      Color.LIGHT_WHITE)\n",
    "\n",
    "Message.print_message(f'Решение с помощью NumPy, ответ: {is_multiset_np(np_lst_1, np_lst_2)}',\n",
    "                      Color.GREEN,\n",
    "                      Color.LIGHT_WHITE)\n",
    "\n",
    "Message.print_message(f'Решение без использования NumPy, ответ: {is_multiset(lst_1, lst_2)}',\n",
    "                      Color.RED,\n",
    "                      Color.LIGHT_WHITE)\n"
   ],
   "outputs": [
    {
     "name": "stdout",
     "output_type": "stream",
     "text": [
      "\n",
      "\u001B[1m\u001B[35m+-----------------------------------------------------------+\u001B[0m\n",
      "\u001B[1m\u001B[35m| \u001B[97m\u001B[1mСформированный ПЕРВЫЙ массив NumPy имеет вид: [1 2 1 1 2]\u001B[0m\u001B[35m |\u001B[0m\n",
      "\u001B[1m\u001B[35m+-----------------------------------------------------------+\u001B[0m\n",
      "\n",
      "\u001B[1m\u001B[35m+-----------------------------------------------------------+\u001B[0m\n",
      "\u001B[1m\u001B[35m| \u001B[97m\u001B[1mСформированный ВТОРОЙ массив NumPy имеет вид: [1 1 1 2 2]\u001B[0m\u001B[35m |\u001B[0m\n",
      "\u001B[1m\u001B[35m+-----------------------------------------------------------+\u001B[0m\n",
      "\n",
      "\u001B[1m\u001B[32m+--------------------------------------+\u001B[0m\n",
      "\u001B[1m\u001B[32m| \u001B[97m\u001B[1mРешение с помощью NumPy, ответ: True\u001B[0m\u001B[32m |\u001B[0m\n",
      "\u001B[1m\u001B[32m+--------------------------------------+\u001B[0m\n",
      "\n",
      "\u001B[1m\u001B[31m+----------------------------------------------+\u001B[0m\n",
      "\u001B[1m\u001B[31m| \u001B[97m\u001B[1mРешение без использования NumPy, ответ: True\u001B[0m\u001B[31m |\u001B[0m\n",
      "\u001B[1m\u001B[31m+----------------------------------------------+\u001B[0m\n"
     ]
    }
   ],
   "execution_count": 17
  },
  {
   "cell_type": "markdown",
   "id": "b9c185c7",
   "metadata": {},
   "source": [
    "* __Задача 3__: Найти максимальный элемент в векторе x среди элементов, перед которыми стоит ноль. \n",
    " Например, для x = np.array([6, 2, 0, 3, 0, 0, 5, 7, 0]) ответ 5."
   ]
  },
  {
   "cell_type": "code",
   "id": "b57df008",
   "metadata": {
    "ExecuteTime": {
     "end_time": "2025-10-24T21:45:08.949433Z",
     "start_time": "2025-10-24T21:45:08.942727Z"
    }
   },
   "source": [
    "def max_after_zero(array: list[int]) -> int:\n",
    "    answer = float('-inf')\n",
    "    for k in range(1, len(array)):\n",
    "        if array[k - 1] == 0:\n",
    "            answer = max(answer, array[k])\n",
    "    return answer\n",
    "\n",
    "def max_after_zero_np(array: np.ndarray) -> int:\n",
    "    return np.max(array[1:][array[:-1] == 0])\n",
    "\n",
    "\n",
    "np_lst_1 = np.random.randint(0, 10, size=20)\n",
    "\n",
    "lst_1 = np_lst_1.tolist()\n",
    "\n",
    "\n",
    "Message.print_message(f'Сформированный массив NumPy имеет вид: {np_lst_1}',\n",
    "                      Color.PURPLE,\n",
    "                      Color.LIGHT_WHITE)\n",
    "\n",
    "Message.print_message(f'Решение с помощью NumPy, ответ: {max_after_zero_np(np_lst_1)}',\n",
    "                      Color.GREEN,\n",
    "                      Color.LIGHT_WHITE)\n",
    "\n",
    "Message.print_message(f'Решение без использования NumPy, ответ: {max_after_zero(lst_1)}',\n",
    "                      Color.RED,\n",
    "                      Color.LIGHT_WHITE)\n"
   ],
   "outputs": [
    {
     "name": "stdout",
     "output_type": "stream",
     "text": [
      "\n",
      "\u001B[1m\u001B[35m+-----------------------------------------------------------------------------------------+\u001B[0m\n",
      "\u001B[1m\u001B[35m| \u001B[97m\u001B[1mСформированный ПЕРВЫЙ массив NumPy имеет вид: [7 9 9 7 3 8 9 6 4 4 6 3 0 7 3 0 5 7 5 8]\u001B[0m\u001B[35m |\u001B[0m\n",
      "\u001B[1m\u001B[35m+-----------------------------------------------------------------------------------------+\u001B[0m\n",
      "\n",
      "\u001B[1m\u001B[32m+-----------------------------------+\u001B[0m\n",
      "\u001B[1m\u001B[32m| \u001B[97m\u001B[1mРешение с помощью NumPy, ответ: 7\u001B[0m\u001B[32m |\u001B[0m\n",
      "\u001B[1m\u001B[32m+-----------------------------------+\u001B[0m\n",
      "\n",
      "\u001B[1m\u001B[31m+-------------------------------------------+\u001B[0m\n",
      "\u001B[1m\u001B[31m| \u001B[97m\u001B[1mРешение без использования NumPy, ответ: 7\u001B[0m\u001B[31m |\u001B[0m\n",
      "\u001B[1m\u001B[31m+-------------------------------------------+\u001B[0m\n"
     ]
    }
   ],
   "execution_count": 21
  },
  {
   "cell_type": "markdown",
   "id": "480be4ce",
   "metadata": {},
   "source": [
    "* __Задача 4__: Реализовать кодирование длин серий (Run-length encoding). Для некоторого вектора x необходимо вернуть кортеж из двух векторов одинаковой длины. Первый содержит числа, а второй - сколько раз их нужно повторить.  \n",
    " Например, для x = np.array([2, 2, 2, 3, 3, 3, 5]) ответ (np.array([2, 3, 5]), np.array([3, 3, 1]))."
   ]
  },
  {
   "cell_type": "code",
   "id": "3c592124",
   "metadata": {
    "ExecuteTime": {
     "end_time": "2025-10-24T23:04:09.281535Z",
     "start_time": "2025-10-24T23:04:09.265047Z"
    }
   },
   "source": [
    "def length_encoding(array):\n",
    "    if not array:\n",
    "        return [], []\n",
    "    values = []\n",
    "    counts = []\n",
    "    current = lst[0]\n",
    "    count = 1\n",
    "    for elem in lst[1:]:\n",
    "        if elem == current:\n",
    "            count += 1\n",
    "        else:\n",
    "            values.append(current)\n",
    "            counts.append(count)\n",
    "            current = elem\n",
    "            count = 1\n",
    "    values.append(current)\n",
    "    counts.append(count)\n",
    "    return values, counts\n",
    "\n",
    "def length_encoding_np(array: np.ndarray):\n",
    "    if len(array) == 0:\n",
    "        return np.array([]), np.array([])\n",
    "    diff = np.diff(array)\n",
    "    change_indices = np.where(diff != 0)[0] + 1\n",
    "    values = np.split(array, change_indices)\n",
    "    run_values = np.array([v[0] for v in values])\n",
    "    run_counts = np.array([len(v) for v in values])\n",
    "    return run_values, run_counts\n",
    "\n",
    "\n",
    "np_lst = np.random.randint(1, 3, size=15)\n",
    "lst = np_lst.tolist()\n",
    "\n",
    "Message.print_message(f'Сформированный массив NumPy имеет вид: {np_lst}',\n",
    "                      Color.PURPLE,\n",
    "                      Color.LIGHT_WHITE)\n",
    "\n",
    "vals_py, counts_py = length_encoding(lst)\n",
    "vals_np, counts_np = length_encoding_np(np_lst)\n",
    "\n",
    "Message.print_message(f\"Результат Python: значения {vals_py}, длины {counts_py}\", Color.RED, Color.LIGHT_WHITE)\n",
    "Message.print_message(f\"Результат NumPy: значения {vals_np}, длины {counts_np}\", Color.GREEN, Color.LIGHT_WHITE)\n"
   ],
   "outputs": [
    {
     "name": "stdout",
     "output_type": "stream",
     "text": [
      "\n",
      "\u001B[1m\u001B[35m+------------------------------------------------------------------------+\u001B[0m\n",
      "\u001B[1m\u001B[35m| \u001B[97m\u001B[1mСформированный массив NumPy имеет вид: [2 2 1 2 2 2 2 2 1 2 2 1 1 2 1]\u001B[0m\u001B[35m |\u001B[0m\n",
      "\u001B[1m\u001B[35m+------------------------------------------------------------------------+\u001B[0m\n",
      "\n",
      "\u001B[1m\u001B[31m+---------------------------------------------------------------------------+\u001B[0m\n",
      "\u001B[1m\u001B[31m| \u001B[97m\u001B[1mPython: значения [2, 1, 2, 1, 2, 1, 2, 1], длины [2, 1, 5, 1, 2, 2, 1, 1]\u001B[0m\u001B[31m |\u001B[0m\n",
      "\u001B[1m\u001B[31m+---------------------------------------------------------------------------+\u001B[0m\n",
      "\n",
      "\u001B[1m\u001B[32m+------------------------------------------------------------+\u001B[0m\n",
      "\u001B[1m\u001B[32m| \u001B[97m\u001B[1mNumPy: значения [2 1 2 1 2 1 2 1], длины [2 1 5 1 2 2 1 1]\u001B[0m\u001B[32m |\u001B[0m\n",
      "\u001B[1m\u001B[32m+------------------------------------------------------------+\u001B[0m\n"
     ]
    }
   ],
   "execution_count": 64
  },
  {
   "cell_type": "markdown",
   "id": "077532ec",
   "metadata": {},
   "source": [
    "* __Задача 5__: Даны две выборки объектов - X и Y. Вычислить матрицу евклидовых расстояний между объектами. Сравните с функцией scipy.spatial.distance.cdist по скорости работы."
   ]
  },
  {
   "cell_type": "code",
   "id": "1e807797",
   "metadata": {
    "ExecuteTime": {
     "end_time": "2025-10-24T22:56:28.060060Z",
     "start_time": "2025-10-24T22:56:26.817625Z"
    }
   },
   "source": [
    "def find_distance(array1: list[list[float]], array2: list[list[float]]) -> tuple[list[list[float]], float]:\n",
    "    start = time.time()\n",
    "    n = len(array1)\n",
    "    m = len(array2)\n",
    "    d = len(array1[0])\n",
    "    result = [[0.0]*m for _ in range(n)]\n",
    "    for i in range(n):\n",
    "        for j in range(m):\n",
    "            dist = sum((array1[i][k] - array2[j][k])**2 for k in range(d))**0.5\n",
    "            result[i][j] = dist\n",
    "    end = time.time()\n",
    "    return result, end-start\n",
    "\n",
    "def find_distance_np(array1: np.ndarray, array2: np.ndarray) -> tuple[np.ndarray, float]:\n",
    "    start = time.time()\n",
    "    X_norm = np.sum(array1**2, axis=1).reshape(-1,1)\n",
    "    Y_norm = np.sum(array2**2, axis=1).reshape(1,-1)\n",
    "    distances_squared = X_norm + Y_norm - 2*array1 @ array2.T\n",
    "    result = np.sqrt(np.maximum(distances_squared, 0))\n",
    "    end = time.time()\n",
    "    return result, end-start\n",
    "\n",
    "def find_distance_sc(array1: np.ndarray, array2: np.ndarray) -> tuple[np.ndarray, float]:\n",
    "    start = time.time()\n",
    "    result = cdist(array1, array2, metric='euclidean')\n",
    "    end = time.time()\n",
    "    return result, end-start\n",
    "\n",
    "\n",
    "np_lst_1 = np.round(np.random.rand(1000, 5), 2)\n",
    "np_lst_2 = np.round(np.random.rand(800, 5), 2)\n",
    "\n",
    "lst_1 = np_lst_1.tolist()\n",
    "lst_2 = np_lst_2.tolist()\n",
    "\n",
    "Message.print_message('Матрицы слишком дробные, поэтому выведу только метрики :/', Color.RED, Color.LIGHT_WHITE)\n",
    "\n",
    "# Message.print_matrix(np_lst_1, 'Сформированный ПЕРВЫЙ массив NumPy имеет вид:')\n",
    "# Message.print_matrix(np_lst_2, 'Сформированный ВТОРОЙ массив NumPy имеет вид:')\n",
    "\n",
    "D_py, t_py = find_distance(lst_1, lst_2)\n",
    "D_np, t_np = find_distance_np(np_lst_1, np_lst_2)\n",
    "D_sc, t_sc = find_distance_sc(np_lst_1, np_lst_2)\n",
    "\n",
    "# Message.print_matrix(D_sc, 'Матрица евклидовых расстояний через Scipy имеет вид:') слишком дробная... некрасиво...\n",
    "\n",
    "Message.print_message(f'Время Python: {t_py:.5f} с', Color.CYAN, Color.LIGHT_WHITE)\n",
    "Message.print_message(f'Время NumPy: {t_np:.5f} с', Color.GREEN, Color.LIGHT_WHITE)\n",
    "Message.print_message(f'Время Scipy cdist: {t_sc:.5f} с', Color.PURPLE, Color.LIGHT_WHITE)\n"
   ],
   "outputs": [
    {
     "name": "stdout",
     "output_type": "stream",
     "text": [
      "\n",
      "\u001B[1m\u001B[31m+-----------------------------------------------------------+\u001B[0m\n",
      "\u001B[1m\u001B[31m| \u001B[97m\u001B[1mМатрицы слишком дробные, поэтому выведу только метрики :/\u001B[0m\u001B[31m |\u001B[0m\n",
      "\u001B[1m\u001B[31m+-----------------------------------------------------------+\u001B[0m\n",
      "\n",
      "\u001B[1m\u001B[36m+-------------------------+\u001B[0m\n",
      "\u001B[1m\u001B[36m| \u001B[97m\u001B[1mВремя Python: 1.17497 с\u001B[0m\u001B[36m |\u001B[0m\n",
      "\u001B[1m\u001B[36m+-------------------------+\u001B[0m\n",
      "\n",
      "\u001B[1m\u001B[32m+------------------------+\u001B[0m\n",
      "\u001B[1m\u001B[32m| \u001B[97m\u001B[1mВремя NumPy: 0.02291 с\u001B[0m\u001B[32m |\u001B[0m\n",
      "\u001B[1m\u001B[32m+------------------------+\u001B[0m\n",
      "\n",
      "\u001B[1m\u001B[35m+------------------------------+\u001B[0m\n",
      "\u001B[1m\u001B[35m| \u001B[97m\u001B[1mВремя Scipy cdist: 0.00705 с\u001B[0m\u001B[35m |\u001B[0m\n",
      "\u001B[1m\u001B[35m+------------------------------+\u001B[0m\n"
     ]
    }
   ],
   "execution_count": 59
  },
  {
   "cell_type": "markdown",
   "id": "1104acb7",
   "metadata": {},
   "source": [
    "* #### __Задача 6__: CrunchieMunchies __*__\n",
    "\n",
    "Вы работаете в отделе маркетинга пищевой компании MyCrunch, которая разрабатывает новый вид вкусных, полезных злаков под названием **CrunchieMunchies**.\n",
    "\n",
    "Вы хотите продемонстрировать потребителям, насколько полезны ваши хлопья по сравнению с другими ведущими брендами, поэтому вы собрали данные о питании нескольких разных конкурентов.\n",
    "\n",
    "Ваша задача - использовать вычисления Numpy для анализа этих данных и доказать, что ваши **СrunchieMunchies** - самый здоровый выбор для потребителей.\n"
   ]
  },
  {
   "cell_type": "markdown",
   "id": "ab87cb03",
   "metadata": {},
   "source": [
    "1. Просмотрите файл cereal.csv. Этот файл содержит количества калорий для различных марок хлопьев. Загрузите данные из файла и сохраните их как calorie_stats."
   ]
  },
  {
   "cell_type": "code",
   "id": "9681ebf2",
   "metadata": {
    "ExecuteTime": {
     "end_time": "2025-10-25T11:21:12.501732Z",
     "start_time": "2025-10-25T11:21:12.474784Z"
    }
   },
   "source": [
    "calorie_stats = np.loadtxt(NUMPY_CSV_PATH, delimiter=\",\")\n",
    "\n",
    "Message.print_message('Количество калорий для различных марок хлопьев:', Color.GREEN, Color.LIGHT_WHITE)\n",
    "\n",
    "calorie_stats"
   ],
   "outputs": [
    {
     "name": "stdout",
     "output_type": "stream",
     "text": [
      "\n",
      "\u001B[1m\u001B[32m+-------------------------------------------------+\u001B[0m\n",
      "\u001B[1m\u001B[32m| \u001B[97m\u001B[1mКоличество калорий для различных марок хлопьев:\u001B[0m\u001B[32m |\u001B[0m\n",
      "\u001B[1m\u001B[32m+-------------------------------------------------+\u001B[0m\n"
     ]
    },
    {
     "data": {
      "text/plain": [
       "array([ 70., 120.,  70.,  50., 110., 110., 110., 130.,  90.,  90., 120.,\n",
       "       110., 120., 110., 110., 110., 100., 110., 110., 110., 100., 110.,\n",
       "       100., 100., 110., 110., 100., 120., 120., 110., 100., 110., 100.,\n",
       "       110., 120., 120., 110., 110., 110., 140., 110., 100., 110., 100.,\n",
       "       150., 150., 160., 100., 120., 140.,  90., 130., 120., 100.,  50.,\n",
       "        50., 100., 100., 120., 100.,  90., 110., 110.,  80.,  90.,  90.,\n",
       "       110., 110.,  90., 110., 140., 100., 110., 110., 100., 100., 110.])"
      ]
     },
     "execution_count": 2,
     "metadata": {},
     "output_type": "execute_result"
    }
   ],
   "execution_count": 2
  },
  {
   "cell_type": "markdown",
   "id": "139cfbd8",
   "metadata": {},
   "source": [
    "2. В одной порции CrunchieMunchies содержится 60 калорий. Насколько выше среднее количество калорий у ваших конкурентов?\n",
    "\n",
    "Сохраните ответ в переменной average_calories и распечатайте переменную в терминале"
   ]
  },
  {
   "cell_type": "code",
   "id": "7036d240",
   "metadata": {
    "ExecuteTime": {
     "end_time": "2025-10-24T23:54:25.633113Z",
     "start_time": "2025-10-24T23:54:25.626842Z"
    }
   },
   "source": [
    "our_calories = 60\n",
    "average_calories = np.mean(calorie_stats)\n",
    "\n",
    "diff = average_calories - our_calories\n",
    "percent_diff = (average_calories / our_calories - 1) * 100\n",
    "\n",
    "Message.print_message(\n",
    "    f'Среднее количество калорий у наших конкурентов - {average_calories:.2f}, '\n",
    "    f'что выше на {diff:.2f} или же на {percent_diff:.2f}%',\n",
    "    Color.BLUE,\n",
    "    Color.LIGHT_WHITE\n",
    ")\n"
   ],
   "outputs": [
    {
     "name": "stdout",
     "output_type": "stream",
     "text": [
      "\n",
      "\u001B[1m\u001B[34m+---------------------------------------------------------------------------------------------+\u001B[0m\n",
      "\u001B[1m\u001B[34m| \u001B[97m\u001B[1mСреднее количество калорий у наших конкурентов - 106.88, что выше на 46.88 или же на 78.14%\u001B[0m\u001B[34m |\u001B[0m\n",
      "\u001B[1m\u001B[34m+---------------------------------------------------------------------------------------------+\u001B[0m\n"
     ]
    }
   ],
   "execution_count": 9
  },
  {
   "cell_type": "markdown",
   "id": "b2ddb4cd",
   "metadata": {},
   "source": [
    "3. Корректно ли среднее количество калорий отражает распределение набора данных? Давайте отсортируем данные и посмотрим.\n",
    "\n",
    "Отсортируйте данные и сохраните результат в переменной calorie_stats_sorted. Распечатайте отсортированную информацию"
   ]
  },
  {
   "cell_type": "code",
   "id": "46eeb4ed",
   "metadata": {
    "ExecuteTime": {
     "end_time": "2025-10-24T23:54:13.049622Z",
     "start_time": "2025-10-24T23:54:12.852106Z"
    }
   },
   "source": [
    "calorie_stats_sorted = np.sort(calorie_stats)\n",
    "\n",
    "\n",
    "Message.print_message(\n",
    "    'Исходя из массива и гистограммы видно, что характерно относительно РАВНОМЕРНОЕ РАСПРЕДЕЛЕНИЕ',\n",
    "    Color.BLUE,\n",
    "    Color.LIGHT_WHITE\n",
    ")\n",
    "\n",
    "print(calorie_stats_sorted)\n",
    "\n",
    "df = pd.DataFrame({'Calories': calorie_stats})\n",
    "builder = Builder(df=df)\n",
    "\n",
    "\n",
    "\n",
    "builder.build_histograms(columns=['Calories'])"
   ],
   "outputs": [
    {
     "name": "stdout",
     "output_type": "stream",
     "text": [
      "\n",
      "\u001B[1m\u001B[34m+----------------------------------------------------------------------------------------------+\u001B[0m\n",
      "\u001B[1m\u001B[34m| \u001B[97m\u001B[1mИсходя из массива и гистограммы видно, что характерно относительно РАВНОМЕРНОЕ РАСПРЕДЕЛЕНИЕ\u001B[0m\u001B[34m |\u001B[0m\n",
      "\u001B[1m\u001B[34m+----------------------------------------------------------------------------------------------+\u001B[0m\n",
      "[ 50.  50.  50.  70.  70.  80.  90.  90.  90.  90.  90.  90.  90. 100.\n",
      " 100. 100. 100. 100. 100. 100. 100. 100. 100. 100. 100. 100. 100. 100.\n",
      " 100. 100. 110. 110. 110. 110. 110. 110. 110. 110. 110. 110. 110. 110.\n",
      " 110. 110. 110. 110. 110. 110. 110. 110. 110. 110. 110. 110. 110. 110.\n",
      " 110. 110. 110. 120. 120. 120. 120. 120. 120. 120. 120. 120. 120. 130.\n",
      " 130. 140. 140. 140. 150. 150. 160.]\n"
     ]
    },
    {
     "data": {
      "text/plain": [
       "<Figure size 1200x300 with 3 Axes>"
      ],
      "image/png": "[encoded data removed]"
     },
     "metadata": {},
     "output_type": "display_data"
    }
   ],
   "execution_count": 7
  },
  {
   "cell_type": "markdown",
   "id": "4dc74116",
   "metadata": {},
   "source": [
    "4. Похоже, что большинство значений выше среднего. Давайте посмотрим, является ли медиана наиболее корректным показателем набора данных.\n",
    "\n",
    "Вычислите медиану набора данных и сохраните свой ответ в median_calories. Выведите медиану, чтобы вы могли видеть, как она сравнивается со средним значением."
   ]
  },
  {
   "cell_type": "code",
   "id": "b56627c3",
   "metadata": {
    "ExecuteTime": {
     "end_time": "2025-10-24T23:54:28.893430Z",
     "start_time": "2025-10-24T23:54:28.888099Z"
    }
   },
   "source": [
    "median_calories = np.median(calorie_stats)\n",
    "Message.print_message(\n",
    "    f'Медиана набора данных - {median_calories:.2f}, при этом среднее значение - {average_calories:.2f}',\n",
    "    Color.CYAN,\n",
    "    Color.LIGHT_WHITE\n",
    ")\n"
   ],
   "outputs": [
    {
     "name": "stdout",
     "output_type": "stream",
     "text": [
      "\n",
      "\u001B[1m\u001B[36m+--------------------------------------------------------------------+\u001B[0m\n",
      "\u001B[1m\u001B[36m| \u001B[97m\u001B[1mМедиана набора данных - 110.00, при этом среднее значение - 106.88\u001B[0m\u001B[36m |\u001B[0m\n",
      "\u001B[1m\u001B[36m+--------------------------------------------------------------------+\u001B[0m\n"
     ]
    }
   ],
   "execution_count": 10
  },
  {
   "cell_type": "markdown",
   "id": "a63ab72f",
   "metadata": {},
   "source": [
    "5. В то время как медиана показывает, что по крайней мере половина наших значений составляет более 100 калорий, было бы более впечатляюще показать, что значительная часть конкурентов имеет более высокое количество калорий, чем CrunchieMunchies.\n",
    "\n",
    "Рассчитайте различные процентили и распечатайте их, пока не найдете наименьший процентиль, превышающий 60 калорий. Сохраните это значение в переменной nth_percentile."
   ]
  },
  {
   "cell_type": "code",
   "id": "fe80ce03",
   "metadata": {
    "ExecuteTime": {
     "end_time": "2025-10-24T23:55:52.859033Z",
     "start_time": "2025-10-24T23:55:52.641126Z"
    }
   },
   "source": [
    "percentiles = np.percentile(calorie_stats, np.arange(0, 101, 1))\n",
    "\n",
    "nth_percentile = next(p for p in range(101) if percentiles[p] > our_calories)\n",
    "\n",
    "Message.print_message(\n",
    "    f\"Наименьший процентиль, превышающий {our_calories} калорий: {nth_percentile}% (70 калорий)\",\n",
    "    Color.BLUE,\n",
    "    Color.LIGHT_WHITE\n",
    ")\n",
    "\n",
    "builder.plot_percentile_line(column='Calories', our_value=60)\n"
   ],
   "outputs": [
    {
     "name": "stdout",
     "output_type": "stream",
     "text": [
      "\n",
      "\u001B[1m\u001B[34m+-----------------------------------------------------------------+\u001B[0m\n",
      "\u001B[1m\u001B[34m| \u001B[97m\u001B[1mНаименьший процентиль, превышающий 60 калорий: 4% (70 каллорий)\u001B[0m\u001B[34m |\u001B[0m\n",
      "\u001B[1m\u001B[34m+-----------------------------------------------------------------+\u001B[0m\n"
     ]
    },
    {
     "data": {
      "text/plain": [
       "<Figure size 800x500 with 1 Axes>"
      ],
      "image/png": "[encoded data removed]"
     },
     "metadata": {},
     "output_type": "display_data"
    }
   ],
   "execution_count": 12
  },
  {
   "cell_type": "markdown",
   "id": "a2a3c5aa",
   "metadata": {},
   "source": [
    "6. Хотя процентиль показывает нам, что у большинства конкурентов количество калорий намного выше, это неудобная концепция для использования в маркетинговых материалах.\n",
    "\n",
    "Вместо этого давайте подсчитаем процент хлопьев, в которых содержится более 60 калорий на порцию. Сохраните свой ответ в переменной more_calories и распечатайте его"
   ]
  },
  {
   "cell_type": "code",
   "id": "ade0f6ea",
   "metadata": {
    "ExecuteTime": {
     "end_time": "2025-10-24T23:57:38.075319Z",
     "start_time": "2025-10-24T23:57:38.071315Z"
    }
   },
   "source": [
    "more_calories = np.sum(calorie_stats > our_calories) / len(calorie_stats) * 100\n",
    "\n",
    "Message.print_message(\n",
    "    f\"Процент хлопьев с калориями более {our_calories}: {more_calories:.2f}%\",\n",
    "    Color.PURPLE,\n",
    "    Color.LIGHT_WHITE\n",
    ")\n"
   ],
   "outputs": [
    {
     "name": "stdout",
     "output_type": "stream",
     "text": [
      "\n",
      "\u001B[1m\u001B[35m+----------------------------------------------+\u001B[0m\n",
      "\u001B[1m\u001B[35m| \u001B[97m\u001B[1mПроцент хлопьев с калориями более 60: 96.10%\u001B[0m\u001B[35m |\u001B[0m\n",
      "\u001B[1m\u001B[35m+----------------------------------------------+\u001B[0m\n"
     ]
    }
   ],
   "execution_count": 14
  },
  {
   "cell_type": "markdown",
   "id": "1735d65b",
   "metadata": {},
   "source": [
    "7. Это действительно высокий процент. Это будет очень полезно, когда мы будем продвигать CrunchieMunchies. Но один вопрос заключается в том, насколько велики различия в наборе данных? Можем ли мы сделать обобщение, что в большинстве злаков содержится около 100 калорий или разброс еще больше?\n",
    "\n",
    "Рассчитайте величину отклонения, найдя стандартное отклонение, Сохраните свой ответ в calorie_std и распечатайте на терминале. Как мы можем включить эту ценность в наш анализ?"
   ]
  },
  {
   "cell_type": "code",
   "id": "85c8df1f",
   "metadata": {
    "ExecuteTime": {
     "end_time": "2025-10-24T23:58:59.612132Z",
     "start_time": "2025-10-24T23:58:59.606617Z"
    }
   },
   "source": [
    "calorie_std = np.std(calorie_stats, ddof=0) \n",
    "\n",
    "Message.print_message(\n",
    "    f\"Стандартное отклонение калорий: {calorie_std:.2f}\",\n",
    "    Color.BLUE,\n",
    "    Color.LIGHT_WHITE\n",
    ")"
   ],
   "outputs": [
    {
     "name": "stdout",
     "output_type": "stream",
     "text": [
      "\n",
      "\u001B[1m\u001B[34m+---------------------------------------+\u001B[0m\n",
      "\u001B[1m\u001B[34m| \u001B[97m\u001B[1mСтандартное отклонение калорий: 19.36\u001B[0m\u001B[34m |\u001B[0m\n",
      "\u001B[1m\u001B[34m+---------------------------------------+\u001B[0m\n"
     ]
    }
   ],
   "execution_count": 15
  },
  {
   "cell_type": "markdown",
   "id": "037455c5",
   "metadata": {},
   "source": [
    "8. Напишите короткий абзац, в котором кратко изложите свои выводы и то, как, по вашему мнению, эти данные могут быть использованы в интересах Mycrunch при маркетинге CrunchieMunchies."
   ]
  },
  {
   "metadata": {},
   "cell_type": "markdown",
   "source": "Анализ данных о калорийности конкурирующих злаков показал, что среднее значение калорий **значительно выше 60 калорий** на порцию, а большинство продуктов конкурентов содержат более 60 калорий. При этом стандартное отклонение показывает, что **разброс значений достаточно велик**, что делает CrunchieMunchies с 60 калориями **особенно привлекательным** для потребителей, следящих за калорийностью. Эти данные можно использовать в **маркетинговых материалах**, подчеркивая, что CrunchieMunchies предлагает **низкокалорийную альтернативу**, которая по вкусу и питательности **не уступает конкурентам**, при этом помогает контролировать калории, что особенно важно для современных потребителей, заботящихся о здоровье.",
   "id": "c46549c9d9899512"
  },
  {
   "cell_type": "code",
   "id": "c260fee9",
   "metadata": {
    "ExecuteTime": {
     "end_time": "2025-10-25T00:10:07.942523Z",
     "start_time": "2025-10-25T00:10:07.936781Z"
    }
   },
   "source": [
    "Message.print_message(\n",
    "    f\"Очень крутое задание! Побольше бы таких! Спасибо!\",\n",
    "    Color.PURPLE,\n",
    "    Color.LIGHT_WHITE\n",
    ")"
   ],
   "outputs": [
    {
     "name": "stdout",
     "output_type": "stream",
     "text": [
      "\n",
      "\u001B[1m\u001B[35m+---------------------------------------------------+\u001B[0m\n",
      "\u001B[1m\u001B[35m| \u001B[97m\u001B[1mОчень крутое задание! Побольше бы таких! Спасибо!\u001B[0m\u001B[35m |\u001B[0m\n",
      "\u001B[1m\u001B[35m+---------------------------------------------------+\u001B[0m\n"
     ]
    }
   ],
   "execution_count": 17
  },
  {
   "metadata": {
    "ExecuteTime": {
     "end_time": "2025-10-24T22:28:26.328583Z",
     "start_time": "2025-10-24T22:28:26.323846Z"
    }
   },
   "cell_type": "code",
   "source": "Developer.print_info_of_developer()",
   "id": "e12b630bca44ae15",
   "outputs": [
    {
     "name": "stdout",
     "output_type": "stream",
     "text": [
      "\n",
      "\n",
      "\u001B[1m\u001B[97m+--------------------------------------------------------------+\u001B[0m\n",
      "\u001B[1m\u001B[97m| \u001B[36m\u001B[1mЗадание было выполнено стажером Big Data в компании Innowise\u001B[0m\u001B[97m |\u001B[0m\n",
      "\u001B[1m\u001B[97m+--------------------------------------------------------------+\u001B[0m\n",
      "\n",
      "\u001B[1m\u001B[97m+--------------------------------------------------+\u001B[0m\n",
      "\u001B[1m\u001B[97m| \u001B[32m\u001B[1mBig Data Engineer: Панфиленко Станислав Игоревич\u001B[0m\u001B[97m |\u001B[0m\n",
      "\u001B[1m\u001B[97m+--------------------------------------------------+\u001B[0m\n",
      "\n",
      "\u001B[1m\u001B[97m+----------------------------------------------------------+\u001B[0m\n",
      "\u001B[1m\u001B[97m| \u001B[34m\u001B[1mЛичная электронная почта: stanislav.panfilenko@gmail.com\u001B[0m\u001B[97m |\u001B[0m\n",
      "\u001B[1m\u001B[97m+----------------------------------------------------------+\u001B[0m\n",
      "\n"
     ]
    }
   ],
   "execution_count": 45
  }
 ],
 "metadata": {
  "kernelspec": {
   "display_name": "Python 3 (ipykernel)",
   "language": "python",
   "name": "python3"
  },
  "language_info": {
   "codemirror_mode": {
    "name": "ipython",
    "version": 3
   },
   "file_extension": ".py",
   "mimetype": "text/x-python",
   "name": "python",
   "nbconvert_exporter": "python",
   "pygments_lexer": "ipython3",
   "version": "3.8.10"
  }
 },
 "nbformat": 4,
 "nbformat_minor": 5
}
